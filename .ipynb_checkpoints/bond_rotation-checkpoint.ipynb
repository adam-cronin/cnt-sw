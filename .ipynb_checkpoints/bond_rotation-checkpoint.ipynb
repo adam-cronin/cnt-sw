{
 "cells": [
  {
   "cell_type": "code",
   "execution_count": 5,
   "metadata": {},
   "outputs": [
    {
     "name": "stdout",
     "output_type": "stream",
     "text": [
      "49\n",
      "50\n"
     ]
    }
   ],
   "source": [
    "import os\n",
    "cnt_file=os.path.join('cnt_opt_final.xyz')\n",
    "import numpy\n",
    "cnt_coords=numpy.genfromtxt(fname=cnt_file,dtype='unicode',skip_header=2)\n",
    "coords=(cnt_coords[:,1:])\n",
    "coords=coords.astype(numpy.float)\n",
    "for i in range(0,99):\n",
    "    if (-5.6379<coords[i,0]<-5.6377) & (-4.0807<coords[i,1]<-4.0805) & (-2.5078e-6<coords[i,2]<-2.5076e-6):\n",
    "        print(i)\n",
    "    if (-4.6477<coords[i,0]<-4.6475) & (-5.1805<coords[i,1]<-5.1803) & (-2.7477<coords[i,2]<-2.7475e-6):\n",
    "        print(i)"
   ]
  },
  {
   "cell_type": "code",
   "execution_count": 12,
   "metadata": {},
   "outputs": [
    {
     "name": "stdout",
     "output_type": "stream",
     "text": [
      "[-5.63779796e+00 -4.08059539e+00 -2.50771200e-06] [-4.64756229e+00 -5.18037390e+00 -2.74762400e-06]\n"
     ]
    }
   ],
   "source": [
    "b1=coords[49]\n",
    "b2=coords[50]\n",
    "print(b1,b2)"
   ]
  },
  {
   "cell_type": "code",
   "execution_count": 16,
   "metadata": {},
   "outputs": [
    {
     "name": "stdout",
     "output_type": "stream",
     "text": [
      "0.5498892576865\n",
      "0.24482801860158376\n",
      "0.7399458535850839\n",
      "0.8377627377285553\n"
     ]
    }
   ],
   "source": [
    "import sympy as sym\n",
    "\n",
    "x1=b1[0]\n",
    "x2=b2[0]\n",
    "y1=b1[1]\n",
    "y2=b2[1]\n",
    "z1=b1[2]\n",
    "z2=b2[2]\n",
    "r=0.5*numpy.sqrt((x2-x1)**2+(y2-y1)**2)\n",
    "dy=(y1-y2)/2\n",
    "print(dy)\n",
    "dx=(x1-x2+2*r)/2\n",
    "print(dx)\n",
    "import math \n",
    "beta=math.asin(dy/r)\n",
    "print(r)\n",
    "print(beta)"
   ]
  },
  {
   "cell_type": "code",
   "execution_count": 17,
   "metadata": {},
   "outputs": [
    {
     "name": "stdout",
     "output_type": "stream",
     "text": [
      "-2.507712e-06 -2.747624e-06\n"
     ]
    }
   ],
   "source": [
    "z_vals=b1[2]\n",
    "z_vals_=b2[2]\n",
    "print(z_vals,z_vals_)"
   ]
  },
  {
   "cell_type": "code",
   "execution_count": 18,
   "metadata": {},
   "outputs": [
    {
     "name": "stdout",
     "output_type": "stream",
     "text": [
      "0.5668289016357824 -0.5668341569717824\n"
     ]
    }
   ],
   "source": [
    "import numpy\n",
    "def z_eqn(theta):\n",
    "    z=z_vals+2*r*numpy.sin(0.5*theta)*numpy.cos(0.5*theta)\n",
    "    return z\n",
    "new_z=z_eqn(50*numpy.pi/180)\n",
    "def z_eqn_(theta):\n",
    "    z=z_vals_-2*r*numpy.sin(0.5*theta)*numpy.cos(0.5*theta)\n",
    "    return z\n",
    "new_z_=z_eqn_(50*numpy.pi/180)\n",
    "print(new_z,new_z_)\n",
    "def line_eq(x1,x2,y1,y2):\n",
    "    m=(y2-y1)/(x2-x1)\n",
    "    b=m*(-x2)+y2\n",
    "    return m,b\n",
    "m,b=line_eq(x1,x2,y1,y2)"
   ]
  },
  {
   "cell_type": "code",
   "execution_count": 34,
   "metadata": {},
   "outputs": [
    {
     "name": "stdout",
     "output_type": "stream",
     "text": [
      "[-5.81466018 -3.88416813]\n"
     ]
    }
   ],
   "source": [
    "from scipy.optimize import fsolve\n",
    "\n",
    "def distance_xy(theta):\n",
    "    d=2*r*numpy.sin(0.5*theta)**2\n",
    "    return d\n",
    "d=distance_xy(50*numpy.pi/180)\n",
    "def xy_eq(z):\n",
    "    x=z[0]\n",
    "    y=z[1]\n",
    "\n",
    "    F=numpy.empty((2))\n",
    "    F[0]=numpy.sqrt((x-x1)**2+(y-y1)**2)-d2\n",
    "    F[1]=y-m*x-b\n",
    "    return F\n",
    "zguess=numpy.array([x1,y1])\n",
    "z=fsolve(xy_eq,zguess)\n",
    "print(z)\n",
    "x_1=z[0]\n",
    "y_1=z[1]"
   ]
  },
  {
   "cell_type": "code",
   "execution_count": 38,
   "metadata": {},
   "outputs": [
    {
     "name": "stdout",
     "output_type": "stream",
     "text": [
      "[-4.82442451 -4.98394665]\n",
      "[-5.46093573 -4.27702264]\n"
     ]
    }
   ],
   "source": [
    "def distance_xy_(theta):\n",
    "    d=2*r*numpy.sin(0.5*theta)**2\n",
    "    return d\n",
    "d2=distance_xy(-50*numpy.pi/180-numpy.pi)\n",
    "def xy_eq_(z):\n",
    "    x=z[0]\n",
    "    y=z[1]\n",
    "\n",
    "    F=numpy.empty((2))\n",
    "    F[0]=numpy.sqrt((x-x2)**2+(y-y2)**2)-d\n",
    "    F[1]=y-m*x-b\n",
    "    return F\n",
    "zguess=numpy.array([x2,y2])\n",
    "z=fsolve(xy_eq_,zguess)\n",
    "print(z)\n",
    "x_2=z[0]\n",
    "y_2=z[1]\n",
    "def xy_eq(z):\n",
    "    x=z[0]\n",
    "    y=z[1]\n",
    "\n",
    "    F=numpy.empty((2))\n",
    "    F[0]=numpy.sqrt((x-x2)**2+(y-y2)**2)-d2\n",
    "    F[1]=y-m*x-b\n",
    "    return F\n",
    "zguess=numpy.array([x2,y2])\n",
    "z=fsolve(xy_eq,zguess)\n",
    "print(z)\n",
    "x_1=z[0]\n",
    "y_1=z[1]"
   ]
  },
  {
   "cell_type": "code",
   "execution_count": 39,
   "metadata": {},
   "outputs": [
    {
     "name": "stdout",
     "output_type": "stream",
     "text": [
      "\n",
      "x1=[-5.460935731142719,-4.824424511818282]\n",
      "y1=[-4.277022643561889,-4.983946646643111]\n",
      "z1=[0.5668289016357824,-0.5668341569717824]\n",
      "\n"
     ]
    }
   ],
   "source": [
    "print(f\"\"\"\n",
    "x1=[{x_1},{x_2}]\n",
    "y1=[{y_1},{y_2}]\n",
    "z1=[{new_z},{new_z_}]\n",
    "\"\"\")"
   ]
  },
  {
   "cell_type": "code",
   "execution_count": 40,
   "metadata": {},
   "outputs": [
    {
     "name": "stdout",
     "output_type": "stream",
     "text": [
      "0.7399459454767153\n"
     ]
    }
   ],
   "source": [
    "r1=0.5*numpy.sqrt((x_2-x_1)**2+(y_2-y_1)**2+(new_z-new_z_)**2)\n",
    "print(r1)"
   ]
  },
  {
   "cell_type": "code",
   "execution_count": 46,
   "metadata": {},
   "outputs": [],
   "source": [
    "import psi4\n",
    "cnt_opt_ts=psi4.geometry(f\"\"\"\n",
    "0 1 \n",
    "C            6.958311407795     0.124763397565    -2.335556072487\n",
    "C            6.832185250562     1.324633084077    -2.335560607715\n",
    "C            5.556031136545     4.190935339485    -2.335544826270\n",
    "C            4.748742404557     5.087536857101    -2.335573498879\n",
    "C            2.031551798543     6.656317941719    -2.335548654754\n",
    "C            0.851431954316     6.907166765666    -2.335568318372\n",
    "C           -2.268918186125     6.579214247248    -2.335567662344\n",
    "C           -3.371085543534     6.088503396757    -2.335545481052\n",
    "C           -5.702743528227     3.989077184759    -2.335571482394\n",
    "C           -6.305971590022     2.944234379317    -2.335542166270\n",
    "C           -6.958311407795    -0.124763397565    -2.335556072487\n",
    "C           -6.832185250562    -1.324633084077    -2.335560607715\n",
    "C           -5.556031136545    -4.190935339485    -2.335544826270\n",
    "C           -4.748742404557    -5.087536857101    -2.335573498879\n",
    "C           -2.031551798543    -6.656317941719    -2.335548654754\n",
    "C           -0.851431954316    -6.907166765666    -2.335568318372\n",
    "C            2.268918186125    -6.579214247248    -2.335567662344\n",
    "C            3.371085543534    -6.088503396757    -2.335545481052\n",
    "C            5.702743528227    -3.989077184759    -2.335571482394\n",
    "C            6.305971590022    -2.944234379317    -2.335542166270\n",
    "C            6.615331446673     2.183542725585    -1.219280994479\n",
    "C            6.049222894320     3.455045988092    -1.219279914328\n",
    "C            4.068453023481     5.654935476141    -1.219282370245\n",
    "C            2.863093673813     6.350858226161    -1.219280100433\n",
    "C           -0.032445630230     6.966339753709    -1.219280997404\n",
    "C           -1.416655574836     6.820859264696    -1.219280395927\n",
    "C           -4.120953470203     5.616835397317    -1.219278150376\n",
    "C           -5.155286690851     4.685516342702    -1.219280230469\n",
    "C           -6.635389954009     2.121884632325    -1.219278452004\n",
    "C           -6.924764638881     0.760465983567    -1.219280013079\n",
    "C           -6.615331446673    -2.183542725585    -1.219280994479\n",
    "C           -6.049222894320    -3.455045988092    -1.219279914328\n",
    "C           -4.068453023481    -5.654935476141    -1.219282370245\n",
    "C           -2.863093673813    -6.350858226161    -1.219280100433\n",
    "C            0.032445630230    -6.966339753709    -1.219280997404\n",
    "C            1.416655574836    -6.820859264696    -1.219280395927\n",
    "C            4.120953470203    -5.616835397317    -1.219278150376\n",
    "C            5.155286690851    -4.685516342702    -1.219280230469\n",
    "C            6.635389954009    -2.121884632325    -1.219278452004\n",
    "C            6.924764638881    -0.760465983567    -1.219280013079\n",
    "C            5.637797956464     4.080595387416    -0.000002507712\n",
    "C            4.647562286497     5.180373902789    -0.000002747624\n",
    "C            2.162556002015     6.615107910154    -0.000002445578\n",
    "C            0.715005008476     6.922802879157    -0.000001794859\n",
    "C           -2.138719578566     6.622880293295    -0.000000099398\n",
    "C           -3.490666495240     6.020958146275     0.000000738193\n",
    "C           -5.623075555545     4.100925491808     0.000000992908\n",
    "C           -6.363016335533     2.819301561967     0.000000581475\n",
    "C           -6.959600566705     0.012559356070    -0.000000736435\n",
    "C           -6.804906949563    -1.459223867053    -0.000001468688\n",
    "C           {x_1}    {y_1}    {new_z}\n",
    "C       {x_2} {y_2} {new_z_}\n",
    "C           -2.162556002015    -6.615107910154    -0.000002445578\n",
    "C           -0.715005008476    -6.922802879157    -0.000001794859\n",
    "C            2.138719578566    -6.622880293295    -0.000000099398\n",
    "C            3.490666495240    -6.020958146275     0.000000738193\n",
    "C            5.623075555545    -4.100925491808     0.000000992908\n",
    "C            6.363016335533    -2.819301561967     0.000000581475\n",
    "C            6.959600566705    -0.012559356070    -0.000000736435\n",
    "C            6.804906949563     1.459223867053    -0.000001468688\n",
    "C            4.068452118797     5.654937159061     1.219279499418\n",
    "C            2.863095725338     6.350857689006     1.219277647306\n",
    "C           -0.032445802354     6.966339059998     1.219281053213\n",
    "C           -1.416652257674     6.820858794173     1.219282104089\n",
    "C           -4.120952450246     5.616831872095     1.219282751808\n",
    "C           -5.155282841807     4.685515136319     1.219285106471\n",
    "C           -6.635388667028     2.121881500556     1.219281881206\n",
    "C           -6.924763046616     0.760466436782     1.219282087078\n",
    "C           -6.615330374029    -2.183545111426     1.219280191403\n",
    "C           -6.049223676295    -3.455045146126     1.219278028548\n",
    "C           -4.068452118797    -5.654937159061     1.219279499418\n",
    "C           -2.863095725338    -6.350857689006     1.219277647306\n",
    "C            0.032445802354    -6.966339059998     1.219281053213\n",
    "C            1.416652257674    -6.820858794173     1.219282104089\n",
    "C            4.120952450246    -5.616831872095     1.219282751808\n",
    "C            5.155282841807    -4.685515136319     1.219285106471\n",
    "C            6.635388667028    -2.121881500556     1.219281881206\n",
    "C            6.924763046616    -0.760466436782     1.219282087078\n",
    "C            6.615330374029     2.183545111426     1.219280191403\n",
    "C            6.049223676295     3.455045146126     1.219278028548\n",
    "C            2.031552751567     6.656320095468     2.335546006946\n",
    "C            0.851435648583     6.907167836937     2.335566706049\n",
    "C           -2.268916288711     6.579213487539     2.335569551294\n",
    "C           -3.371081791386     6.088501623412     2.335548400113\n",
    "C           -5.702741100190     3.989073466660     2.335575143210\n",
    "C           -6.305969134731     2.944232775802     2.335545217287\n",
    "C           -6.958311485628    -0.124766692501     2.335556510217\n",
    "C           -6.832186133094    -1.324634282518     2.335559902623\n",
    "C           -5.556032422151    -4.190938775172     2.335541901036\n",
    "C           -4.748745323147    -5.087539159002     2.335570187686\n",
    "C           -2.031552751567    -6.656320095468     2.335546006946\n",
    "C           -0.851435648583    -6.907167836937     2.335566706049\n",
    "C            2.268916288711    -6.579213487539     2.335569551294\n",
    "C            3.371081791386    -6.088501623412     2.335548400113\n",
    "C            5.702741100190    -3.989073466660     2.335575143210\n",
    "C            6.305969134731    -2.944232775802     2.335545217287\n",
    "C            6.958311485628     0.124766692501     2.335556510217\n",
    "C            6.832186133094     1.324634282518     2.335559902623\n",
    "C            5.556032422151     4.190938775172     2.335541901036\n",
    "C            4.748745323147     5.087539159002     2.335570187686\n",
    "\"\"\")"
   ]
  },
  {
   "cell_type": "code",
   "execution_count": 47,
   "metadata": {},
   "outputs": [
    {
     "data": {
      "text/plain": [
       "5000000000"
      ]
     },
     "execution_count": 47,
     "metadata": {},
     "output_type": "execute_result"
    }
   ],
   "source": [
    "psi4.set_memory(5e9)"
   ]
  },
  {
   "cell_type": "code",
   "execution_count": 54,
   "metadata": {},
   "outputs": [],
   "source": [
    "psi4.set_module_options('optking',{'opt_type':'ts'})"
   ]
  },
  {
   "cell_type": "code",
   "execution_count": 55,
   "metadata": {},
   "outputs": [
    {
     "ename": "RuntimeError",
     "evalue": "\nFatal Error: Option OPT_TYPE is not recognized by the SCF module.\nError occurred in file: D:\\a\\1\\s\\psi4\\src\\psi4\\liboptions\\liboptions.cc on line: 517\n",
     "output_type": "error",
     "traceback": [
      "\u001b[1;31m---------------------------------------------------------------------------\u001b[0m",
      "\u001b[1;31mRuntimeError\u001b[0m                              Traceback (most recent call last)",
      "\u001b[1;32m<ipython-input-55-d63cf492d83e>\u001b[0m in \u001b[0;36m<module>\u001b[1;34m\u001b[0m\n\u001b[0;32m      1\u001b[0m \u001b[0mpsi4\u001b[0m\u001b[1;33m.\u001b[0m\u001b[0mset_output_file\u001b[0m\u001b[1;33m(\u001b[0m\u001b[1;34m'cnt_ts_opt.dat'\u001b[0m\u001b[1;33m,\u001b[0m \u001b[1;32mFalse\u001b[0m\u001b[1;33m)\u001b[0m\u001b[1;33m\u001b[0m\u001b[1;33m\u001b[0m\u001b[0m\n\u001b[1;32m----> 2\u001b[1;33m \u001b[0mpsi4\u001b[0m\u001b[1;33m.\u001b[0m\u001b[0moptimize\u001b[0m\u001b[1;33m(\u001b[0m\u001b[1;34m'scf/cc-pVDZ'\u001b[0m\u001b[1;33m,\u001b[0m \u001b[0mmolecule\u001b[0m\u001b[1;33m=\u001b[0m\u001b[0mcnt_opt_ts\u001b[0m\u001b[1;33m)\u001b[0m\u001b[1;33m\u001b[0m\u001b[1;33m\u001b[0m\u001b[0m\n\u001b[0m\u001b[0;32m      3\u001b[0m \u001b[1;33m\u001b[0m\u001b[0m\n\u001b[0;32m      4\u001b[0m \u001b[1;31m# print the optimized atomic coordinates\u001b[0m\u001b[1;33m\u001b[0m\u001b[1;33m\u001b[0m\u001b[1;33m\u001b[0m\u001b[0m\n\u001b[0;32m      5\u001b[0m \u001b[0mpsi4\u001b[0m\u001b[1;33m.\u001b[0m\u001b[0mset_output_file\u001b[0m\u001b[1;33m(\u001b[0m\u001b[1;34m'cnt_ts_opt_final.dat'\u001b[0m\u001b[1;33m,\u001b[0m \u001b[1;32mFalse\u001b[0m\u001b[1;33m)\u001b[0m\u001b[1;33m\u001b[0m\u001b[1;33m\u001b[0m\u001b[0m\n",
      "\u001b[1;32m~\\Anaconda3\\lib\\site-packages\\psi4\\driver\\driver.py\u001b[0m in \u001b[0;36moptimize\u001b[1;34m(name, **kwargs)\u001b[0m\n\u001b[0;32m   1013\u001b[0m         \u001b[1;33m[\u001b[0m\u001b[1;34m'OPTKING'\u001b[0m\u001b[1;33m,\u001b[0m \u001b[1;34m'CART_HESS_READ'\u001b[0m\u001b[1;33m]\u001b[0m\u001b[1;33m,\u001b[0m\u001b[1;33m\u001b[0m\u001b[1;33m\u001b[0m\u001b[0m\n\u001b[0;32m   1014\u001b[0m         \u001b[1;33m[\u001b[0m\u001b[1;34m'SCF'\u001b[0m\u001b[1;33m,\u001b[0m \u001b[1;34m'GUESS_PERSIST'\u001b[0m\u001b[1;33m]\u001b[0m\u001b[1;33m,\u001b[0m  \u001b[1;31m# handle on behalf of cbs()\u001b[0m\u001b[1;33m\u001b[0m\u001b[1;33m\u001b[0m\u001b[0m\n\u001b[1;32m-> 1015\u001b[1;33m         ['SCF', 'GUESS'])\n\u001b[0m\u001b[0;32m   1016\u001b[0m \u001b[1;33m\u001b[0m\u001b[0m\n\u001b[0;32m   1017\u001b[0m     \u001b[0mn\u001b[0m \u001b[1;33m=\u001b[0m \u001b[0mkwargs\u001b[0m\u001b[1;33m.\u001b[0m\u001b[0mget\u001b[0m\u001b[1;33m(\u001b[0m\u001b[1;34m'opt_iter'\u001b[0m\u001b[1;33m,\u001b[0m \u001b[1;36m1\u001b[0m\u001b[1;33m)\u001b[0m\u001b[1;33m\u001b[0m\u001b[1;33m\u001b[0m\u001b[0m\n",
      "\u001b[1;32m~\\Anaconda3\\lib\\site-packages\\psi4\\driver\\p4util\\optproc.py\u001b[0m in \u001b[0;36m__init__\u001b[1;34m(self, *largs)\u001b[0m\n\u001b[0;32m    114\u001b[0m         \u001b[0mself\u001b[0m\u001b[1;33m.\u001b[0m\u001b[0mdata\u001b[0m \u001b[1;33m=\u001b[0m \u001b[1;33m{\u001b[0m\u001b[1;33m}\u001b[0m\u001b[1;33m\u001b[0m\u001b[1;33m\u001b[0m\u001b[0m\n\u001b[0;32m    115\u001b[0m         \u001b[1;32mfor\u001b[0m \u001b[0mitem\u001b[0m \u001b[1;32min\u001b[0m \u001b[0mlargs\u001b[0m\u001b[1;33m:\u001b[0m\u001b[1;33m\u001b[0m\u001b[1;33m\u001b[0m\u001b[0m\n\u001b[1;32m--> 116\u001b[1;33m             \u001b[0mself\u001b[0m\u001b[1;33m.\u001b[0m\u001b[0madd_option\u001b[0m\u001b[1;33m(\u001b[0m\u001b[0mitem\u001b[0m\u001b[1;33m)\u001b[0m\u001b[1;33m\u001b[0m\u001b[1;33m\u001b[0m\u001b[0m\n\u001b[0m\u001b[0;32m    117\u001b[0m \u001b[1;33m\u001b[0m\u001b[0m\n\u001b[0;32m    118\u001b[0m     \u001b[1;32mdef\u001b[0m \u001b[0madd_option\u001b[0m\u001b[1;33m(\u001b[0m\u001b[0mself\u001b[0m\u001b[1;33m,\u001b[0m \u001b[0mitem\u001b[0m\u001b[1;33m)\u001b[0m\u001b[1;33m:\u001b[0m\u001b[1;33m\u001b[0m\u001b[1;33m\u001b[0m\u001b[0m\n",
      "\u001b[1;32m~\\Anaconda3\\lib\\site-packages\\psi4\\driver\\p4util\\optproc.py\u001b[0m in \u001b[0;36madd_option\u001b[1;34m(self, item)\u001b[0m\n\u001b[0;32m    131\u001b[0m                 % key)\n\u001b[0;32m    132\u001b[0m         \u001b[1;32melse\u001b[0m\u001b[1;33m:\u001b[0m\u001b[1;33m\u001b[0m\u001b[1;33m\u001b[0m\u001b[0m\n\u001b[1;32m--> 133\u001b[1;33m             \u001b[0mself\u001b[0m\u001b[1;33m.\u001b[0m\u001b[0mdata\u001b[0m\u001b[1;33m[\u001b[0m\u001b[0mkey\u001b[0m\u001b[1;33m]\u001b[0m \u001b[1;33m=\u001b[0m \u001b[0mOptionState\u001b[0m\u001b[1;33m(\u001b[0m\u001b[1;33m*\u001b[0m\u001b[0mkey\u001b[0m\u001b[1;33m)\u001b[0m\u001b[1;33m\u001b[0m\u001b[1;33m\u001b[0m\u001b[0m\n\u001b[0m\u001b[0;32m    134\u001b[0m \u001b[1;33m\u001b[0m\u001b[0m\n\u001b[0;32m    135\u001b[0m     \u001b[1;32mdef\u001b[0m \u001b[0m__str__\u001b[0m\u001b[1;33m(\u001b[0m\u001b[0mself\u001b[0m\u001b[1;33m)\u001b[0m\u001b[1;33m:\u001b[0m\u001b[1;33m\u001b[0m\u001b[1;33m\u001b[0m\u001b[0m\n",
      "\u001b[1;32m~\\Anaconda3\\lib\\site-packages\\psi4\\driver\\p4util\\optproc.py\u001b[0m in \u001b[0;36m__init__\u001b[1;34m(self, option, module)\u001b[0m\n\u001b[0;32m     58\u001b[0m         \u001b[0mself\u001b[0m\u001b[1;33m.\u001b[0m\u001b[0mhaschanged_global\u001b[0m \u001b[1;33m=\u001b[0m \u001b[0mcore\u001b[0m\u001b[1;33m.\u001b[0m\u001b[0mhas_global_option_changed\u001b[0m\u001b[1;33m(\u001b[0m\u001b[0moption\u001b[0m\u001b[1;33m)\u001b[0m\u001b[1;33m\u001b[0m\u001b[1;33m\u001b[0m\u001b[0m\n\u001b[0;32m     59\u001b[0m         \u001b[1;32mif\u001b[0m \u001b[0mself\u001b[0m\u001b[1;33m.\u001b[0m\u001b[0mmodule\u001b[0m\u001b[1;33m:\u001b[0m\u001b[1;33m\u001b[0m\u001b[1;33m\u001b[0m\u001b[0m\n\u001b[1;32m---> 60\u001b[1;33m             \u001b[0mself\u001b[0m\u001b[1;33m.\u001b[0m\u001b[0mvalue_local\u001b[0m \u001b[1;33m=\u001b[0m \u001b[0mcore\u001b[0m\u001b[1;33m.\u001b[0m\u001b[0mget_local_option\u001b[0m\u001b[1;33m(\u001b[0m\u001b[0mself\u001b[0m\u001b[1;33m.\u001b[0m\u001b[0mmodule\u001b[0m\u001b[1;33m,\u001b[0m \u001b[0moption\u001b[0m\u001b[1;33m)\u001b[0m\u001b[1;33m\u001b[0m\u001b[1;33m\u001b[0m\u001b[0m\n\u001b[0m\u001b[0;32m     61\u001b[0m             \u001b[0mself\u001b[0m\u001b[1;33m.\u001b[0m\u001b[0mhaschanged_local\u001b[0m \u001b[1;33m=\u001b[0m \u001b[0mcore\u001b[0m\u001b[1;33m.\u001b[0m\u001b[0mhas_local_option_changed\u001b[0m\u001b[1;33m(\u001b[0m\u001b[0mself\u001b[0m\u001b[1;33m.\u001b[0m\u001b[0mmodule\u001b[0m\u001b[1;33m,\u001b[0m \u001b[0moption\u001b[0m\u001b[1;33m)\u001b[0m\u001b[1;33m\u001b[0m\u001b[1;33m\u001b[0m\u001b[0m\n\u001b[0;32m     62\u001b[0m             \u001b[0mself\u001b[0m\u001b[1;33m.\u001b[0m\u001b[0mvalue_used\u001b[0m \u001b[1;33m=\u001b[0m \u001b[0mcore\u001b[0m\u001b[1;33m.\u001b[0m\u001b[0mget_option\u001b[0m\u001b[1;33m(\u001b[0m\u001b[0mself\u001b[0m\u001b[1;33m.\u001b[0m\u001b[0mmodule\u001b[0m\u001b[1;33m,\u001b[0m \u001b[0moption\u001b[0m\u001b[1;33m)\u001b[0m\u001b[1;33m\u001b[0m\u001b[1;33m\u001b[0m\u001b[0m\n",
      "\u001b[1;31mRuntimeError\u001b[0m: \nFatal Error: Option OPT_TYPE is not recognized by the SCF module.\nError occurred in file: D:\\a\\1\\s\\psi4\\src\\psi4\\liboptions\\liboptions.cc on line: 517\n"
     ]
    }
   ],
   "source": [
    "psi4.set_output_file('cnt_ts_opt.dat', False)\n",
    "psi4.optimize('scf/cc-pVDZ', molecule=cnt_opt_ts)\n",
    "\n",
    "# print the optimized atomic coordinates \n",
    "psi4.set_output_file('cnt_ts_opt_final.dat', False)\n",
    "cnt.print_out_in_angstrom()"
   ]
  },
  {
   "cell_type": "code",
   "execution_count": null,
   "metadata": {},
   "outputs": [],
   "source": []
  }
 ],
 "metadata": {
  "kernelspec": {
   "display_name": "Python 3",
   "language": "python",
   "name": "python3"
  },
  "language_info": {
   "codemirror_mode": {
    "name": "ipython",
    "version": 3
   },
   "file_extension": ".py",
   "mimetype": "text/x-python",
   "name": "python",
   "nbconvert_exporter": "python",
   "pygments_lexer": "ipython3",
   "version": "3.7.3"
  }
 },
 "nbformat": 4,
 "nbformat_minor": 2
}
