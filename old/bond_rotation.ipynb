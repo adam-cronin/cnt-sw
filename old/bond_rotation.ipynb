{
 "cells": [
  {
   "cell_type": "code",
   "execution_count": 19,
   "metadata": {},
   "outputs": [],
   "source": [
    "import os\n",
    "cnt_file=os.path.join('nt559_opt.xyz')\n",
    "import numpy\n",
    "cnt_coords=numpy.genfromtxt(fname=cnt_file,dtype='unicode',skip_header=2)\n",
    "coords=(cnt_coords[:,1:])\n",
    "coords=coords.astype(numpy.float)\n"
   ]
  },
  {
   "cell_type": "code",
   "execution_count": 20,
   "metadata": {},
   "outputs": [
    {
     "name": "stdout",
     "output_type": "stream",
     "text": [
      "[-0.1045291  -0.24947919  3.50263695] [1.05068857 0.59964152 3.30647897]\n"
     ]
    }
   ],
   "source": [
    "b1=coords[41]\n",
    "b2=coords[42]\n",
    "print(b1,b2)"
   ]
  },
  {
   "cell_type": "code",
   "execution_count": 21,
   "metadata": {},
   "outputs": [
    {
     "name": "stdout",
     "output_type": "stream",
     "text": [
      "-0.424560354677\n",
      "0.13924781771214145\n",
      "0.7168566544926415\n",
      "-0.6338518635463727\n"
     ]
    }
   ],
   "source": [
    "import sympy as sym\n",
    "\n",
    "x1=b1[0]\n",
    "x2=b2[0]\n",
    "y1=b1[1]\n",
    "y2=b2[1]\n",
    "z1=b1[2]\n",
    "z2=b2[2]\n",
    "r=0.5*numpy.sqrt((x2-x1)**2+(y2-y1)**2)\n",
    "dy=(y1-y2)/2\n",
    "print(dy)\n",
    "dx=(x1-x2+2*r)/2\n",
    "print(dx)\n",
    "import math \n",
    "beta=math.asin(dy/r)\n",
    "print(r)\n",
    "print(beta)"
   ]
  },
  {
   "cell_type": "code",
   "execution_count": 22,
   "metadata": {},
   "outputs": [
    {
     "name": "stdout",
     "output_type": "stream",
     "text": [
      "3.50263694891 3.306478971659\n"
     ]
    }
   ],
   "source": [
    "z_vals=b1[2]\n",
    "z_vals_=b2[2]\n",
    "print(z_vals,z_vals_)"
   ]
  },
  {
   "cell_type": "code",
   "execution_count": 25,
   "metadata": {},
   "outputs": [
    {
     "name": "stdout",
     "output_type": "stream",
     "text": [
      "[3.50263694891, 4.09483100858431] [3.306478971659, 2.71428491198469]\n"
     ]
    }
   ],
   "source": [
    "angles=[0,55.7*numpy.pi/180]\n",
    "import numpy\n",
    "def z_eqn(theta):\n",
    "    z=z_vals+2*r*numpy.sin(0.5*theta)*numpy.cos(0.5*theta)\n",
    "    return z\n",
    "new_z=[]\n",
    "for theta in angles:\n",
    "    z=z_eqn(theta)\n",
    "    new_z.append(z)\n",
    "def z_eqn_(theta):\n",
    "    z=z_vals_-2*r*numpy.sin(0.5*theta)*numpy.cos(0.5*theta)\n",
    "    return z\n",
    "new_z_=[]\n",
    "for theta in angles:\n",
    "    z=z_eqn_(theta)\n",
    "    new_z_.append(z)\n",
    "print(new_z,new_z_)\n",
    "def line_eq(x1,x2,y1,y2):\n",
    "    m=(y2-y1)/(x2-x1)\n",
    "    b=m*(-x2)+y2\n",
    "    return m,b\n",
    "m,b=line_eq(x1,x2,y1,y2)"
   ]
  },
  {
   "cell_type": "code",
   "execution_count": 27,
   "metadata": {},
   "outputs": [
    {
     "name": "stdout",
     "output_type": "stream",
     "text": [
      "\n",
      "C 2.205906246479 1.448762229784 3.50263694891\n",
      "C 1.050688572918 0.59964152043 3.306478971659\n",
      "\n",
      "\n",
      "C 1.9537950353208418 1.263452694313664 4.09483100858431\n",
      "C 1.3027997840761583 0.7849510559003362 2.71428491198469\n",
      "\n"
     ]
    }
   ],
   "source": [
    "from scipy.optimize import fsolve\n",
    "\n",
    "def distance_xy(theta):\n",
    "    d=2*r*numpy.sin(0.5*theta)**2\n",
    "    return d\n",
    "dlist=[]\n",
    "dlist_=[]\n",
    "for i in range (0,len(angles)):\n",
    "    theta=angles[i]\n",
    "    new_z=z_eqn(theta)\n",
    "    new_z_=z_eqn_(theta)\n",
    "    d=distance_xy(-theta)\n",
    "    d2=distance_xy(-theta-numpy.pi)\n",
    "    def xy_eq_(z):\n",
    "        x=z[0]\n",
    "        y=z[1]\n",
    "\n",
    "        F=numpy.empty((2))\n",
    "        F[0]=numpy.sqrt((x-x2)**2+(y-y2)**2)-d\n",
    "        F[1]=y-m*x-b\n",
    "        return F\n",
    "    zguess=numpy.array([x2,y2])\n",
    "    z=fsolve(xy_eq_,zguess)\n",
    "    \n",
    "    xx=z[0]\n",
    "    yy=z[1]\n",
    "    def xy_eq(z):\n",
    "        x=z[0]\n",
    "        y=z[1]\n",
    "\n",
    "        F=numpy.empty((2))\n",
    "        F[0]=numpy.sqrt((x-x2)**2+(y-y2)**2)-d2\n",
    "        F[1]=y-m*x-b\n",
    "        return F\n",
    "    zguess=numpy.array([x2,y2])\n",
    "    z=fsolve(xy_eq,zguess)\n",
    "\n",
    "    x=z[0]\n",
    "    y=z[1]\n",
    "    \n",
    "    print(f\"\"\"\n",
    "C {x} {y} {new_z}\n",
    "C {xx} {yy} {new_z_}\n",
    "\"\"\")\n",
    "    "
   ]
  },
  {
   "cell_type": "code",
   "execution_count": 19,
   "metadata": {},
   "outputs": [],
   "source": [
    "psi4.set_module_options('optking',{'opt_type':'ts'})\n",
    "psi4.set_options({'geom_maxiter': 150})"
   ]
  },
  {
   "cell_type": "code",
   "execution_count": null,
   "metadata": {},
   "outputs": [],
   "source": [
    "psi4.set_output_file('cnt_ts_opt.dat', False)\n",
    "psi4.optimize('scf/cc-pVDZ', molecule=cnt_opt_ts)\n",
    "\n",
    "# print the optimized atomic coordinates \n",
    "psi4.set_output_file('cnt_ts_opt_final.dat', False)\n",
    "cnt.print_out_in_angstrom()\n",
    "from datetime import datetime\n",
    "\n",
    "now = datetime.now()\n",
    "\n",
    "current_time = now.strftime(\"%H:%M:%S\")\n",
    "print('Optimization began at 00:42 and finished at',current_time)"
   ]
  },
  {
   "cell_type": "code",
   "execution_count": 10,
   "metadata": {},
   "outputs": [],
   "source": []
  },
  {
   "cell_type": "code",
   "execution_count": 17,
   "metadata": {},
   "outputs": [
    {
     "data": {
      "text/plain": [
       "'2'"
      ]
     },
     "execution_count": 17,
     "metadata": {},
     "output_type": "execute_result"
    }
   ],
   "source": [
    "\n"
   ]
  },
  {
   "cell_type": "code",
   "execution_count": null,
   "metadata": {},
   "outputs": [],
   "source": []
  }
 ],
 "metadata": {
  "kernelspec": {
   "display_name": "Python 3",
   "language": "python",
   "name": "python3"
  },
  "language_info": {
   "codemirror_mode": {
    "name": "ipython",
    "version": 3
   },
   "file_extension": ".py",
   "mimetype": "text/x-python",
   "name": "python",
   "nbconvert_exporter": "python",
   "pygments_lexer": "ipython3",
   "version": "3.7.3"
  }
 },
 "nbformat": 4,
 "nbformat_minor": 2
}
