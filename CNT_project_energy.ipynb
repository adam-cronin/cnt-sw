{
 "cells": [
  {
   "cell_type": "code",
   "execution_count": 2,
   "metadata": {},
   "outputs": [],
   "source": [
    "import psi4"
   ]
  },
  {
   "cell_type": "code",
   "execution_count": 3,
   "metadata": {},
   "outputs": [
    {
     "data": {
      "text/plain": [
       "5000000000"
      ]
     },
     "execution_count": 3,
     "metadata": {},
     "output_type": "execute_result"
    }
   ],
   "source": [
    "psi4.set_memory(int(5e9))"
   ]
  },
  {
   "cell_type": "code",
   "execution_count": 4,
   "metadata": {},
   "outputs": [],
   "source": [
    "CNT=psi4.geometry(\"\"\"\n",
    "0 1\n",
    "C  6.7800         0.0000         0.0000\n",
    "C  6.6318         1.4096         0.0000\n",
    "C  5.4851         3.9852         0.0000\n",
    "C  4.5367         5.0385         0.0000\n",
    "C  2.0951         6.4482         0.0000\n",
    "C  0.7087         6.7429         0.0000\n",
    "C  -2.0951        6.4482         0.0000\n",
    "C  -3.3900        5.8717         0.0000\n",
    "C  -5.4851        3.9852         0.0000\n",
    "C  -6.1938        2.7577         0.0000\n",
    "C  -6.7800        0.0000         0.0000\n",
    "C  -6.6318        -1.4096        0.0000\n",
    "C  -5.4851        -3.9852        0.0000\n",
    "C  -4.5367        -5.0385        0.0000\n",
    "C  -2.0951        -6.4482        0.0000\n",
    "C  -0.7087        -6.7429        0.0000\n",
    "C  2.0951         -6.4482        0.0000\n",
    "C  3.3900         -5.8717        0.0000\n",
    "C  5.4851         -3.9852        0.0000\n",
    "C  6.1938         -2.7577        0.0000\n",
    "C  6.4482         2.0951         1.2298\n",
    "C  5.8717         3.3900         1.2298\n",
    "C  3.9852         5.4851         1.2298\n",
    "C  2.7577         6.1938         1.2298\n",
    "C  0.0000         6.7800         1.2298\n",
    "C  -1.4096        6.6318         1.2298\n",
    "C  -3.9852        5.4851         1.2298\n",
    "C  -5.0385        4.5367         1.2298\n",
    "C  -6.4482        2.0951         1.2298\n",
    "C  -6.7429        0.7087         1.2298\n",
    "C  -6.4482        -2.0951        1.2298\n",
    "C  -5.8717        -3.3900        1.2298\n",
    "C  -3.9852        -5.4851        1.2298\n",
    "C  -2.7577        -6.1938        1.2298\n",
    "C  -0.0000        -6.7800        1.2298\n",
    "C  1.4096         -6.6318        1.2298\n",
    "C  3.9852         -5.4851        1.2298\n",
    "C  5.0385         -4.5367        1.2298\n",
    "C  6.4482         -2.0951        1.2298\n",
    "C  6.7429         -0.7087        1.2298\n",
    "C  5.4851         3.9852         2.4595\n",
    "C  4.5367         5.0385         2.4595\n",
    "C  2.0951         6.4482         2.4595\n",
    "C  0.7087         6.7429         2.4595\n",
    "C  -2.0951        6.4482         2.4595\n",
    "C  -3.3900        5.8717         2.4595\n",
    "C  -5.4851        3.9852         2.4595\n",
    "C  -6.1938        2.7577         2.4595\n",
    "C  -6.7800        0.0000         2.4595\n",
    "C  -6.6318        -1.4096        2.4595\n",
    "C  -5.4851        -3.9852        2.4595\n",
    "C  -4.5367        -5.0385        2.4595\n",
    "C  -2.0951        -6.4482        2.4595\n",
    "C  -0.7087        -6.7429        2.4595\n",
    "C  2.0951         -6.4482        2.4595\n",
    "C  3.3900         -5.8717        2.4595\n",
    "C  5.4851         -3.9852        2.4595\n",
    "C  6.1938         -2.7577        2.4595\n",
    "C  6.7800         -0.0000        2.4595\n",
    "C  6.6318         1.4096         2.4595\n",
    "\n",
    "\"\"\")"
   ]
  },
  {
   "cell_type": "code",
   "execution_count": 5,
   "metadata": {},
   "outputs": [
    {
     "ename": "KeyboardInterrupt",
     "evalue": "",
     "output_type": "error",
     "traceback": [
      "\u001b[1;31m---------------------------------------------------------------------------\u001b[0m",
      "\u001b[1;31mKeyboardInterrupt\u001b[0m                         Traceback (most recent call last)",
      "\u001b[1;32m<ipython-input-5-af1c63ac9812>\u001b[0m in \u001b[0;36m<module>\u001b[1;34m\u001b[0m\n\u001b[1;32m----> 1\u001b[1;33m \u001b[0menergy_CNT\u001b[0m\u001b[1;33m=\u001b[0m\u001b[0mpsi4\u001b[0m\u001b[1;33m.\u001b[0m\u001b[0menergy\u001b[0m\u001b[1;33m(\u001b[0m\u001b[1;34m'scf/cc-pVDZ'\u001b[0m\u001b[1;33m,\u001b[0m\u001b[0mmolecule\u001b[0m\u001b[1;33m=\u001b[0m\u001b[0mCNT\u001b[0m\u001b[1;33m)\u001b[0m\u001b[1;33m\u001b[0m\u001b[1;33m\u001b[0m\u001b[0m\n\u001b[0m\u001b[0;32m      2\u001b[0m \u001b[0mprint\u001b[0m\u001b[1;33m(\u001b[0m\u001b[0menergy_CNT\u001b[0m\u001b[1;33m)\u001b[0m\u001b[1;33m\u001b[0m\u001b[1;33m\u001b[0m\u001b[0m\n",
      "\u001b[1;32m~\\Anaconda3\\lib\\site-packages\\psi4\\driver\\driver.py\u001b[0m in \u001b[0;36menergy\u001b[1;34m(name, **kwargs)\u001b[0m\n\u001b[0;32m    506\u001b[0m     \u001b[1;31m# Bounce to CBS if \"method/basis\" name\u001b[0m\u001b[1;33m\u001b[0m\u001b[1;33m\u001b[0m\u001b[1;33m\u001b[0m\u001b[0m\n\u001b[0;32m    507\u001b[0m     \u001b[1;32mif\u001b[0m \u001b[1;34m\"/\"\u001b[0m \u001b[1;32min\u001b[0m \u001b[0mlowername\u001b[0m\u001b[1;33m:\u001b[0m\u001b[1;33m\u001b[0m\u001b[1;33m\u001b[0m\u001b[0m\n\u001b[1;32m--> 508\u001b[1;33m         \u001b[1;32mreturn\u001b[0m \u001b[0mdriver_cbs\u001b[0m\u001b[1;33m.\u001b[0m\u001b[0m_cbs_gufunc\u001b[0m\u001b[1;33m(\u001b[0m\u001b[0menergy\u001b[0m\u001b[1;33m,\u001b[0m \u001b[0mname\u001b[0m\u001b[1;33m,\u001b[0m \u001b[0mptype\u001b[0m\u001b[1;33m=\u001b[0m\u001b[1;34m'energy'\u001b[0m\u001b[1;33m,\u001b[0m \u001b[1;33m**\u001b[0m\u001b[0mkwargs\u001b[0m\u001b[1;33m)\u001b[0m\u001b[1;33m\u001b[0m\u001b[1;33m\u001b[0m\u001b[0m\n\u001b[0m\u001b[0;32m    509\u001b[0m \u001b[1;33m\u001b[0m\u001b[0m\n\u001b[0;32m    510\u001b[0m     \u001b[1;31m# Commit to procedures['energy'] call hereafter\u001b[0m\u001b[1;33m\u001b[0m\u001b[1;33m\u001b[0m\u001b[1;33m\u001b[0m\u001b[0m\n",
      "\u001b[1;32m~\\Anaconda3\\lib\\site-packages\\psi4\\driver\\driver_cbs.py\u001b[0m in \u001b[0;36m_cbs_gufunc\u001b[1;34m(func, total_method_name, **kwargs)\u001b[0m\n\u001b[0;32m   1947\u001b[0m         \u001b[0moptstash\u001b[0m \u001b[1;33m=\u001b[0m \u001b[0mp4util\u001b[0m\u001b[1;33m.\u001b[0m\u001b[0mOptionsState\u001b[0m\u001b[1;33m(\u001b[0m\u001b[1;33m[\u001b[0m\u001b[1;34m'BASIS'\u001b[0m\u001b[1;33m]\u001b[0m\u001b[1;33m)\u001b[0m\u001b[1;33m\u001b[0m\u001b[1;33m\u001b[0m\u001b[0m\n\u001b[0;32m   1948\u001b[0m         \u001b[0mcore\u001b[0m\u001b[1;33m.\u001b[0m\u001b[0mset_global_option\u001b[0m\u001b[1;33m(\u001b[0m\u001b[1;34m'BASIS'\u001b[0m\u001b[1;33m,\u001b[0m \u001b[0mbasis\u001b[0m\u001b[1;33m)\u001b[0m\u001b[1;33m\u001b[0m\u001b[1;33m\u001b[0m\u001b[0m\n\u001b[1;32m-> 1949\u001b[1;33m         \u001b[0mptype_value\u001b[0m\u001b[1;33m,\u001b[0m \u001b[0mwfn\u001b[0m \u001b[1;33m=\u001b[0m \u001b[0mfunc\u001b[0m\u001b[1;33m(\u001b[0m\u001b[0mmethod_name\u001b[0m\u001b[1;33m,\u001b[0m \u001b[0mreturn_wfn\u001b[0m\u001b[1;33m=\u001b[0m\u001b[1;32mTrue\u001b[0m\u001b[1;33m,\u001b[0m \u001b[0mmolecule\u001b[0m\u001b[1;33m=\u001b[0m\u001b[0mmolecule\u001b[0m\u001b[1;33m,\u001b[0m \u001b[1;33m**\u001b[0m\u001b[0mkwargs\u001b[0m\u001b[1;33m)\u001b[0m\u001b[1;33m\u001b[0m\u001b[1;33m\u001b[0m\u001b[0m\n\u001b[0m\u001b[0;32m   1950\u001b[0m         \u001b[0mcore\u001b[0m\u001b[1;33m.\u001b[0m\u001b[0mclean\u001b[0m\u001b[1;33m(\u001b[0m\u001b[1;33m)\u001b[0m\u001b[1;33m\u001b[0m\u001b[1;33m\u001b[0m\u001b[0m\n\u001b[0;32m   1951\u001b[0m \u001b[1;33m\u001b[0m\u001b[0m\n",
      "\u001b[1;32m~\\Anaconda3\\lib\\site-packages\\psi4\\driver\\driver.py\u001b[0m in \u001b[0;36menergy\u001b[1;34m(name, **kwargs)\u001b[0m\n\u001b[0;32m    554\u001b[0m             \u001b[0mshutil\u001b[0m\u001b[1;33m.\u001b[0m\u001b[0mcopy\u001b[0m\u001b[1;33m(\u001b[0m\u001b[0mitem\u001b[0m\u001b[1;33m,\u001b[0m \u001b[0mtargetfile\u001b[0m\u001b[1;33m)\u001b[0m\u001b[1;33m\u001b[0m\u001b[1;33m\u001b[0m\u001b[0m\n\u001b[0;32m    555\u001b[0m \u001b[1;33m\u001b[0m\u001b[0m\n\u001b[1;32m--> 556\u001b[1;33m     \u001b[0mwfn\u001b[0m \u001b[1;33m=\u001b[0m \u001b[0mprocedures\u001b[0m\u001b[1;33m[\u001b[0m\u001b[1;34m'energy'\u001b[0m\u001b[1;33m]\u001b[0m\u001b[1;33m[\u001b[0m\u001b[0mlowername\u001b[0m\u001b[1;33m]\u001b[0m\u001b[1;33m(\u001b[0m\u001b[0mlowername\u001b[0m\u001b[1;33m,\u001b[0m \u001b[0mmolecule\u001b[0m\u001b[1;33m=\u001b[0m\u001b[0mmolecule\u001b[0m\u001b[1;33m,\u001b[0m \u001b[1;33m**\u001b[0m\u001b[0mkwargs\u001b[0m\u001b[1;33m)\u001b[0m\u001b[1;33m\u001b[0m\u001b[1;33m\u001b[0m\u001b[0m\n\u001b[0m\u001b[0;32m    557\u001b[0m \u001b[1;33m\u001b[0m\u001b[0m\n\u001b[0;32m    558\u001b[0m     \u001b[1;32mfor\u001b[0m \u001b[0mpostcallback\u001b[0m \u001b[1;32min\u001b[0m \u001b[0mhooks\u001b[0m\u001b[1;33m[\u001b[0m\u001b[1;34m'energy'\u001b[0m\u001b[1;33m]\u001b[0m\u001b[1;33m[\u001b[0m\u001b[1;34m'post'\u001b[0m\u001b[1;33m]\u001b[0m\u001b[1;33m:\u001b[0m\u001b[1;33m\u001b[0m\u001b[1;33m\u001b[0m\u001b[0m\n",
      "\u001b[1;32m~\\Anaconda3\\lib\\site-packages\\psi4\\driver\\procrouting\\proc.py\u001b[0m in \u001b[0;36mrun_scf\u001b[1;34m(name, **kwargs)\u001b[0m\n\u001b[0;32m   2000\u001b[0m \u001b[1;33m\u001b[0m\u001b[0m\n\u001b[0;32m   2001\u001b[0m \u001b[1;33m\u001b[0m\u001b[0m\n\u001b[1;32m-> 2002\u001b[1;33m     \u001b[0mscf_wfn\u001b[0m \u001b[1;33m=\u001b[0m \u001b[0mscf_helper\u001b[0m\u001b[1;33m(\u001b[0m\u001b[0mname\u001b[0m\u001b[1;33m,\u001b[0m \u001b[0mpost_scf\u001b[0m\u001b[1;33m=\u001b[0m\u001b[1;32mFalse\u001b[0m\u001b[1;33m,\u001b[0m \u001b[1;33m**\u001b[0m\u001b[0mkwargs\u001b[0m\u001b[1;33m)\u001b[0m\u001b[1;33m\u001b[0m\u001b[1;33m\u001b[0m\u001b[0m\n\u001b[0m\u001b[0;32m   2003\u001b[0m     \u001b[0mreturnvalue\u001b[0m \u001b[1;33m=\u001b[0m \u001b[0mcore\u001b[0m\u001b[1;33m.\u001b[0m\u001b[0mvariable\u001b[0m\u001b[1;33m(\u001b[0m\u001b[1;34m'CURRENT ENERGY'\u001b[0m\u001b[1;33m)\u001b[0m\u001b[1;33m\u001b[0m\u001b[1;33m\u001b[0m\u001b[0m\n\u001b[0;32m   2004\u001b[0m \u001b[1;33m\u001b[0m\u001b[0m\n",
      "\u001b[1;32m~\\Anaconda3\\lib\\site-packages\\psi4\\driver\\procrouting\\proc.py\u001b[0m in \u001b[0;36mscf_helper\u001b[1;34m(name, post_scf, **kwargs)\u001b[0m\n\u001b[0;32m   1361\u001b[0m         \u001b[0muse_c1\u001b[0m \u001b[1;33m=\u001b[0m \u001b[1;32mTrue\u001b[0m\u001b[1;33m\u001b[0m\u001b[1;33m\u001b[0m\u001b[0m\n\u001b[0;32m   1362\u001b[0m \u001b[1;33m\u001b[0m\u001b[0m\n\u001b[1;32m-> 1363\u001b[1;33m     \u001b[0me_scf\u001b[0m \u001b[1;33m=\u001b[0m \u001b[0mscf_wfn\u001b[0m\u001b[1;33m.\u001b[0m\u001b[0mcompute_energy\u001b[0m\u001b[1;33m(\u001b[0m\u001b[1;33m)\u001b[0m\u001b[1;33m\u001b[0m\u001b[1;33m\u001b[0m\u001b[0m\n\u001b[0m\u001b[0;32m   1364\u001b[0m     \u001b[1;32mfor\u001b[0m \u001b[0mobj\u001b[0m \u001b[1;32min\u001b[0m \u001b[1;33m[\u001b[0m\u001b[0mcore\u001b[0m\u001b[1;33m]\u001b[0m\u001b[1;33m:\u001b[0m\u001b[1;33m\u001b[0m\u001b[1;33m\u001b[0m\u001b[0m\n\u001b[0;32m   1365\u001b[0m         \u001b[1;32mfor\u001b[0m \u001b[0mpv\u001b[0m \u001b[1;32min\u001b[0m \u001b[1;33m[\u001b[0m\u001b[1;34m\"SCF TOTAL ENERGY\"\u001b[0m\u001b[1;33m,\u001b[0m \u001b[1;34m\"CURRENT ENERGY\"\u001b[0m\u001b[1;33m,\u001b[0m \u001b[1;34m\"CURRENT REFERENCE ENERGY\"\u001b[0m\u001b[1;33m]\u001b[0m\u001b[1;33m:\u001b[0m\u001b[1;33m\u001b[0m\u001b[1;33m\u001b[0m\u001b[0m\n",
      "\u001b[1;32m~\\Anaconda3\\lib\\site-packages\\psi4\\driver\\procrouting\\scf_proc\\scf_iterator.py\u001b[0m in \u001b[0;36mscf_compute_energy\u001b[1;34m(self)\u001b[0m\n\u001b[0;32m     85\u001b[0m \u001b[1;33m\u001b[0m\u001b[0m\n\u001b[0;32m     86\u001b[0m     \u001b[1;32mtry\u001b[0m\u001b[1;33m:\u001b[0m\u001b[1;33m\u001b[0m\u001b[1;33m\u001b[0m\u001b[0m\n\u001b[1;32m---> 87\u001b[1;33m         \u001b[0mself\u001b[0m\u001b[1;33m.\u001b[0m\u001b[0miterations\u001b[0m\u001b[1;33m(\u001b[0m\u001b[1;33m)\u001b[0m\u001b[1;33m\u001b[0m\u001b[1;33m\u001b[0m\u001b[0m\n\u001b[0m\u001b[0;32m     88\u001b[0m     \u001b[1;32mexcept\u001b[0m \u001b[0mSCFConvergenceError\u001b[0m \u001b[1;32mas\u001b[0m \u001b[0me\u001b[0m\u001b[1;33m:\u001b[0m\u001b[1;33m\u001b[0m\u001b[1;33m\u001b[0m\u001b[0m\n\u001b[0;32m     89\u001b[0m         \u001b[1;32mif\u001b[0m \u001b[0mcore\u001b[0m\u001b[1;33m.\u001b[0m\u001b[0mget_option\u001b[0m\u001b[1;33m(\u001b[0m\u001b[1;34m\"SCF\"\u001b[0m\u001b[1;33m,\u001b[0m \u001b[1;34m\"FAIL_ON_MAXITER\"\u001b[0m\u001b[1;33m)\u001b[0m\u001b[1;33m:\u001b[0m\u001b[1;33m\u001b[0m\u001b[1;33m\u001b[0m\u001b[0m\n",
      "\u001b[1;32m~\\Anaconda3\\lib\\site-packages\\psi4\\driver\\procrouting\\scf_proc\\scf_iterator.py\u001b[0m in \u001b[0;36mscf_iterate\u001b[1;34m(self, e_conv, d_conv)\u001b[0m\n\u001b[0;32m    387\u001b[0m \u001b[1;33m\u001b[0m\u001b[0m\n\u001b[0;32m    388\u001b[0m                 \u001b[1;32mif\u001b[0m \u001b[0mdiis_performed\u001b[0m\u001b[1;33m:\u001b[0m\u001b[1;33m\u001b[0m\u001b[1;33m\u001b[0m\u001b[0m\n\u001b[1;32m--> 389\u001b[1;33m                     \u001b[0mstatus\u001b[0m\u001b[1;33m.\u001b[0m\u001b[0mappend\u001b[0m\u001b[1;33m(\u001b[0m\u001b[1;34m\"DIIS\"\u001b[0m\u001b[1;33m)\u001b[0m\u001b[1;33m\u001b[0m\u001b[1;33m\u001b[0m\u001b[0m\n\u001b[0m\u001b[0;32m    390\u001b[0m \u001b[1;33m\u001b[0m\u001b[0m\n\u001b[0;32m    391\u001b[0m                 \u001b[0mcore\u001b[0m\u001b[1;33m.\u001b[0m\u001b[0mtimer_off\u001b[0m\u001b[1;33m(\u001b[0m\u001b[1;34m\"HF: DIIS\"\u001b[0m\u001b[1;33m)\u001b[0m\u001b[1;33m\u001b[0m\u001b[1;33m\u001b[0m\u001b[0m\n",
      "\u001b[1;31mKeyboardInterrupt\u001b[0m: "
     ]
    }
   ],
   "source": [
    "energy_CNT=psi4.energy('scf/cc-pVDZ',molecule=CNT)\n",
    "print(energy_CNT)"
   ]
  },
  {
   "cell_type": "code",
   "execution_count": 21,
   "metadata": {},
   "outputs": [],
   "source": []
  },
  {
   "cell_type": "code",
   "execution_count": null,
   "metadata": {},
   "outputs": [],
   "source": []
  }
 ],
 "metadata": {
  "kernelspec": {
   "display_name": "Python 3",
   "language": "python",
   "name": "python3"
  },
  "language_info": {
   "codemirror_mode": {
    "name": "ipython",
    "version": 3
   },
   "file_extension": ".py",
   "mimetype": "text/x-python",
   "name": "python",
   "nbconvert_exporter": "python",
   "pygments_lexer": "ipython3",
   "version": "3.7.3"
  }
 },
 "nbformat": 4,
 "nbformat_minor": 2
}
