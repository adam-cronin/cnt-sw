{
 "cells": [
  {
   "cell_type": "code",
   "execution_count": 1,
   "metadata": {},
   "outputs": [
    {
     "name": "stdout",
     "output_type": "stream",
     "text": [
      "117\n"
     ]
    }
   ],
   "source": [
    "import os\n",
    "cnt_file=os.path.join('nt-10-10-5.xyz')\n",
    "import numpy\n",
    "cnt_coords=numpy.genfromtxt(fname=cnt_file,dtype='unicode',skip_header=2)\n",
    "coords=(cnt_coords[:,1:])\n",
    "coords=coords.astype(numpy.float)\n",
    "for i in range(1,198):\n",
    "    if (coords[i,0]==3.9852) & (coords[i,1]==5.4851) & (coords[i,2]==6.1488):\n",
    "        print(i)\n",
    "   "
   ]
  },
  {
   "cell_type": "code",
   "execution_count": 5,
   "metadata": {},
   "outputs": [
    {
     "name": "stdout",
     "output_type": "stream",
     "text": [
      "0.7264499999999998\n",
      "0.4223393294372504\n",
      "0.8359393294372504\n",
      "1.053223016557476\n"
     ]
    }
   ],
   "source": [
    "b2=coords[117]\n",
    "b1=[3.158,6.938,6.1488]\n",
    "import sympy as sym\n",
    "\n",
    "x1=b1[0]\n",
    "x2=b2[0]\n",
    "y1=b1[1]\n",
    "y2=b2[1]\n",
    "z=b1[2]\n",
    "r=0.5*numpy.sqrt((x2-x1)**2+(y2-y1)**2)\n",
    "dy=(y1-y2)/2\n",
    "print(dy)\n",
    "dx=(x1-x2+2*r)/2\n",
    "print(dx)\n",
    "import math \n",
    "beta=math.asin(dy/r)\n",
    "print(r)\n",
    "print(beta)"
   ]
  },
  {
   "cell_type": "code",
   "execution_count": 6,
   "metadata": {},
   "outputs": [],
   "source": [
    "theta=numpy.linspace(0,numpy.pi,19)\n",
    "def y_eqn1(theta):\n",
    "    y=(y1-dy)+r*numpy.sin(beta+theta)\n",
    "    return y\n",
    "def y_eqn2(theta):\n",
    "    y=(y2+dy)-r*numpy.sin(beta+theta)\n",
    "    return y\n",
    "def x_eqn1(theta):\n",
    "    x=(x1-dx)+r-r*numpy.cos(beta+theta)\n",
    "    return x\n",
    "def x_eqn2(theta):\n",
    "    x=(x2+dx)-r+r*numpy.cos(beta+theta)\n",
    "    return x"
   ]
  },
  {
   "cell_type": "code",
   "execution_count": 8,
   "metadata": {},
   "outputs": [
    {
     "name": "stdout",
     "output_type": "stream",
     "text": [
      "[6.938, 6.99878447845876, 7.035649235649419, 7.047474154579206, 7.033899941070134, 6.995339040730796, 6.932963107005244, 6.848667401075984, 6.745013205311991, 6.62515]\n",
      "[5.4851, 5.4243155215412395, 5.3874507643505805, 5.375625845420794, 5.389200058929866, 5.427760959269204, 5.490136892994756, 5.574432598924016, 5.678086794688009, 5.79795]\n",
      "[3.158, 3.2904302320202925, 3.4314036651618802, 3.576636892994756, 3.721717077382777, 3.862236030337429, 3.9939241545792052, 4.112780173090426, 4.215192705892676, 4.29805]\n",
      "[3.9852000000000003, 3.8527697679797077, 3.71179633483812, 3.566563107005244, 3.421482922617223, 3.2809639696625714, 3.149275845420795, 3.030419826909574, 2.9280072941073243, 2.8451500000000003]\n"
     ]
    }
   ],
   "source": [
    "ylist1=[]\n",
    "for num in theta:\n",
    "    new_y=y_eqn1(num)\n",
    "    ylist1.append(new_y)\n",
    "print(ylist1)   \n",
    "ylist2=[]\n",
    "for num in theta:\n",
    "    new_y=y_eqn2(num)\n",
    "    ylist2.append(new_y)\n",
    "print(ylist2)\n",
    "xlist1=[]\n",
    "for num in theta:\n",
    "    new_x=x_eqn1(num)\n",
    "    xlist1.append(new_x)\n",
    "print(xlist1)\n",
    "xlist2=[]\n",
    "for num in theta:\n",
    "    new_x=x_eqn2(num)\n",
    "    xlist2.append(new_x)\n",
    "print(xlist2)"
   ]
  },
  {
   "cell_type": "code",
   "execution_count": 9,
   "metadata": {},
   "outputs": [],
   "source": [
    "import psi4\n",
    "def rotation_energy(i):\n",
    "    CNT=psi4.geometry(f\"\"\"\n",
    "    0 1\n",
    "    C 2.0951 6.4482 4.919\n",
    "    C 0.7087 6.7429 4.919\n",
    "    C -2.0951 6.4482 4.919\n",
    "    C 0.0 6.78 6.1488\n",
    "    C -1.4096 6.6318 6.1488\n",
    "    C {xlist2[i]} {ylist2[i]} 6.1488\n",
    "    C {xlist1[i]} {ylist1[i]} 6.1488\n",
    "    C -2.0951 6.4482 7.3785\n",
    "    C 2.0951 6.4482 7.3785\n",
    "    C 0.7087 6.7429 7.3785\n",
    "    C 3.9852 5.4851 8.6083\n",
    "    C 2.7577 6.1938 8.6083\n",
    "    C 0.0 6.78 8.6083\n",
    "    C -1.4096 6.6318 8.6083\n",
    "    C 2.0951 6.4482 9.838\n",
    "    C 0.7087 6.7429 9.838\n",
    "    C -2.0951 6.4482 9.838\n",
    "    \"\"\")\n",
    "    energy=psi4.energy('scf/cc-pvdz',molecule=CNT)\n",
    "    return energy"
   ]
  },
  {
   "cell_type": "code",
   "execution_count": 10,
   "metadata": {},
   "outputs": [
    {
     "data": {
      "text/plain": [
       "-642.5265833106"
      ]
     },
     "execution_count": 10,
     "metadata": {},
     "output_type": "execute_result"
    }
   ],
   "source": [
    "rotation_energy(0)"
   ]
  },
  {
   "cell_type": "code",
   "execution_count": 11,
   "metadata": {},
   "outputs": [
    {
     "data": {
      "text/plain": [
       "-642.4900276669198"
      ]
     },
     "execution_count": 11,
     "metadata": {},
     "output_type": "execute_result"
    }
   ],
   "source": [
    "rotation_energy(1)"
   ]
  },
  {
   "cell_type": "code",
   "execution_count": 12,
   "metadata": {},
   "outputs": [
    {
     "data": {
      "text/plain": [
       "-642.4566976952719"
      ]
     },
     "execution_count": 12,
     "metadata": {},
     "output_type": "execute_result"
    }
   ],
   "source": [
    "rotation_energy(2)"
   ]
  },
  {
   "cell_type": "code",
   "execution_count": 13,
   "metadata": {},
   "outputs": [
    {
     "data": {
      "text/plain": [
       "-642.4352307015087"
      ]
     },
     "execution_count": 13,
     "metadata": {},
     "output_type": "execute_result"
    }
   ],
   "source": [
    "rotation_energy(3)"
   ]
  },
  {
   "cell_type": "code",
   "execution_count": 14,
   "metadata": {},
   "outputs": [
    {
     "data": {
      "text/plain": [
       "-642.4327142908135"
      ]
     },
     "execution_count": 14,
     "metadata": {},
     "output_type": "execute_result"
    }
   ],
   "source": [
    "rotation_energy(4)"
   ]
  },
  {
   "cell_type": "code",
   "execution_count": 15,
   "metadata": {},
   "outputs": [
    {
     "data": {
      "text/plain": [
       "-642.4361862970716"
      ]
     },
     "execution_count": 15,
     "metadata": {},
     "output_type": "execute_result"
    }
   ],
   "source": [
    "rotation_energy(5)"
   ]
  },
  {
   "cell_type": "code",
   "execution_count": 16,
   "metadata": {},
   "outputs": [
    {
     "data": {
      "text/plain": [
       "-642.4423265784161"
      ]
     },
     "execution_count": 16,
     "metadata": {},
     "output_type": "execute_result"
    }
   ],
   "source": [
    "rotation_energy(6)"
   ]
  },
  {
   "cell_type": "code",
   "execution_count": 18,
   "metadata": {},
   "outputs": [
    {
     "data": {
      "text/plain": [
       "-642.4895401632245"
      ]
     },
     "execution_count": 18,
     "metadata": {},
     "output_type": "execute_result"
    }
   ],
   "source": [
    "rotation_energy(8)"
   ]
  },
  {
   "cell_type": "code",
   "execution_count": 19,
   "metadata": {},
   "outputs": [
    {
     "data": {
      "text/plain": [
       "-642.525882108344"
      ]
     },
     "execution_count": 19,
     "metadata": {},
     "output_type": "execute_result"
    }
   ],
   "source": [
    "rotation_energy(9)"
   ]
  },
  {
   "cell_type": "code",
   "execution_count": null,
   "metadata": {},
   "outputs": [],
   "source": [
    "rotation_energy = -642.5265833106\n",
    "rotation_energy10=-642.4900276669198\n",
    "rotation_energy20=-642.4566976952719\n",
    "rotation_energy30=-642.4352307015087\n",
    "rotation_energy40=-642.4327142908135\n",
    "rotation_energy50=-642.4361862970716\n",
    "rotation_energy60=-642.4423265784161\n",
    "rotation_energy80=-642.4895401632245\n",
    "rotation_energy90=-642.525882108344"
   ]
  }
 ],
 "metadata": {
  "kernelspec": {
   "display_name": "Python 3",
   "language": "python",
   "name": "python3"
  },
  "language_info": {
   "codemirror_mode": {
    "name": "ipython",
    "version": 3
   },
   "file_extension": ".py",
   "mimetype": "text/x-python",
   "name": "python",
   "nbconvert_exporter": "python",
   "pygments_lexer": "ipython3",
   "version": "3.7.3"
  }
 },
 "nbformat": 4,
 "nbformat_minor": 2
}
