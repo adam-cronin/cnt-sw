{
 "cells": [
  {
   "cell_type": "code",
   "execution_count": 1,
   "metadata": {},
   "outputs": [
    {
     "data": {
      "text/plain": [
       "'C:\\\\Users\\\\adamc'"
      ]
     },
     "execution_count": 1,
     "metadata": {},
     "output_type": "execute_result"
    }
   ],
   "source": [
    "pwd"
   ]
  },
  {
   "cell_type": "code",
   "execution_count": 2,
   "metadata": {},
   "outputs": [],
   "source": [
    "import os\n",
    "cnt_file=os.path.join('Downloads','nt-10-10-5.xyz')"
   ]
  },
  {
   "cell_type": "code",
   "execution_count": 3,
   "metadata": {},
   "outputs": [
    {
     "name": "stdout",
     "output_type": "stream",
     "text": [
      "Downloads\\nt-10-10-5.xyz\n"
     ]
    }
   ],
   "source": [
    "print(cnt_file)"
   ]
  },
  {
   "cell_type": "code",
   "execution_count": 4,
   "metadata": {},
   "outputs": [],
   "source": [
    "import numpy\n",
    "cnt_coords=numpy.genfromtxt(fname=cnt_file,dtype='unicode',skip_header=2)"
   ]
  },
  {
   "cell_type": "code",
   "execution_count": 5,
   "metadata": {},
   "outputs": [],
   "source": [
    "coords=(cnt_coords[:,1:])"
   ]
  },
  {
   "cell_type": "code",
   "execution_count": 16,
   "metadata": {},
   "outputs": [
    {
     "name": "stdout",
     "output_type": "stream",
     "text": [
      "[[ 6.6318  1.4096  0.    ]\n",
      " [ 5.4851  3.9852  0.    ]\n",
      " [ 4.5367  5.0385  0.    ]\n",
      " [ 2.0951  6.4482  0.    ]\n",
      " [ 0.7087  6.7429  0.    ]\n",
      " [-2.0951  6.4482  0.    ]\n",
      " [-3.39    5.8717  0.    ]\n",
      " [-5.4851  3.9852  0.    ]\n",
      " [-6.1938  2.7577  0.    ]\n",
      " [-6.78    0.      0.    ]\n",
      " [-6.6318 -1.4096  0.    ]\n",
      " [-5.4851 -3.9852  0.    ]\n",
      " [-4.5367 -5.0385  0.    ]\n",
      " [-2.0951 -6.4482  0.    ]\n",
      " [-0.7087 -6.7429  0.    ]\n",
      " [ 2.0951 -6.4482  0.    ]\n",
      " [ 3.39   -5.8717  0.    ]\n",
      " [ 5.4851 -3.9852  0.    ]\n",
      " [ 6.1938 -2.7577  0.    ]\n",
      " [ 6.4482  2.0951  1.2298]\n",
      " [ 5.8717  3.39    1.2298]\n",
      " [ 3.9852  5.4851  1.2298]\n",
      " [ 2.7577  6.1938  1.2298]\n",
      " [ 0.      6.78    1.2298]\n",
      " [-1.4096  6.6318  1.2298]\n",
      " [-3.9852  5.4851  1.2298]\n",
      " [-5.0385  4.5367  1.2298]\n",
      " [-6.4482  2.0951  1.2298]\n",
      " [-6.7429  0.7087  1.2298]\n",
      " [-6.4482 -2.0951  1.2298]\n",
      " [-5.8717 -3.39    1.2298]\n",
      " [-3.9852 -5.4851  1.2298]\n",
      " [-2.7577 -6.1938  1.2298]\n",
      " [-0.     -6.78    1.2298]\n",
      " [ 1.4096 -6.6318  1.2298]\n",
      " [ 3.9852 -5.4851  1.2298]\n",
      " [ 5.0385 -4.5367  1.2298]\n",
      " [ 6.4482 -2.0951  1.2298]\n",
      " [ 6.7429 -0.7087  1.2298]\n",
      " [ 5.4851  3.9852  2.4595]\n",
      " [ 4.5367  5.0385  2.4595]\n",
      " [ 2.0951  6.4482  2.4595]\n",
      " [ 0.7087  6.7429  2.4595]\n",
      " [-2.0951  6.4482  2.4595]\n",
      " [-3.39    5.8717  2.4595]\n",
      " [-5.4851  3.9852  2.4595]\n",
      " [-6.1938  2.7577  2.4595]\n",
      " [-6.78    0.      2.4595]\n",
      " [-6.6318 -1.4096  2.4595]\n",
      " [-5.4851 -3.9852  2.4595]\n",
      " [-4.5367 -5.0385  2.4595]\n",
      " [-2.0951 -6.4482  2.4595]\n",
      " [-0.7087 -6.7429  2.4595]\n",
      " [ 2.0951 -6.4482  2.4595]\n",
      " [ 3.39   -5.8717  2.4595]\n",
      " [ 5.4851 -3.9852  2.4595]\n",
      " [ 6.1938 -2.7577  2.4595]\n",
      " [ 6.78   -0.      2.4595]\n",
      " [ 6.6318  1.4096  2.4595]\n",
      " [ 3.9852  5.4851  3.6893]\n",
      " [ 2.7577  6.1938  3.6893]\n",
      " [ 0.      6.78    3.6893]\n",
      " [-1.4096  6.6318  3.6893]\n",
      " [-3.9852  5.4851  3.6893]\n",
      " [-5.0385  4.5367  3.6893]\n",
      " [-6.4482  2.0951  3.6893]\n",
      " [-6.7429  0.7087  3.6893]\n",
      " [-6.4482 -2.0951  3.6893]\n",
      " [-5.8717 -3.39    3.6893]\n",
      " [-3.9852 -5.4851  3.6893]\n",
      " [-2.7577 -6.1938  3.6893]\n",
      " [-0.     -6.78    3.6893]\n",
      " [ 1.4096 -6.6318  3.6893]\n",
      " [ 3.9852 -5.4851  3.6893]\n",
      " [ 5.0385 -4.5367  3.6893]\n",
      " [ 6.4482 -2.0951  3.6893]\n",
      " [ 6.7429 -0.7087  3.6893]\n",
      " [ 6.4482  2.0951  3.6893]\n",
      " [ 5.8717  3.39    3.6893]\n",
      " [ 2.0951  6.4482  4.919 ]\n",
      " [ 0.7087  6.7429  4.919 ]\n",
      " [-2.0951  6.4482  4.919 ]\n",
      " [-3.39    5.8717  4.919 ]\n",
      " [-5.4851  3.9852  4.919 ]\n",
      " [-6.1938  2.7577  4.919 ]\n",
      " [-6.78    0.      4.919 ]\n",
      " [-6.6318 -1.4096  4.919 ]\n",
      " [-5.4851 -3.9852  4.919 ]\n",
      " [-4.5367 -5.0385  4.919 ]\n",
      " [-2.0951 -6.4482  4.919 ]\n",
      " [-0.7087 -6.7429  4.919 ]\n",
      " [ 2.0951 -6.4482  4.919 ]\n",
      " [ 3.39   -5.8717  4.919 ]\n",
      " [ 5.4851 -3.9852  4.919 ]\n",
      " [ 6.1938 -2.7577  4.919 ]\n",
      " [ 6.78   -0.      4.919 ]\n",
      " [ 6.6318  1.4096  4.919 ]\n",
      " [ 5.4851  3.9852  4.919 ]\n",
      " [ 4.5367  5.0385  4.919 ]\n",
      " [ 0.      6.78    6.1488]\n",
      " [-1.4096  6.6318  6.1488]\n",
      " [-3.9852  5.4851  6.1488]\n",
      " [-5.0385  4.5367  6.1488]\n",
      " [-6.4482  2.0951  6.1488]\n",
      " [-6.7429  0.7087  6.1488]\n",
      " [-6.4482 -2.0951  6.1488]\n",
      " [-5.8717 -3.39    6.1488]\n",
      " [-3.9852 -5.4851  6.1488]\n",
      " [-2.7577 -6.1938  6.1488]\n",
      " [-0.     -6.78    6.1488]\n",
      " [ 1.4096 -6.6318  6.1488]\n",
      " [ 3.9852 -5.4851  6.1488]\n",
      " [ 5.0385 -4.5367  6.1488]\n",
      " [ 6.4482 -2.0951  6.1488]\n",
      " [ 6.7429 -0.7087  6.1488]\n",
      " [ 6.4482  2.0951  6.1488]\n",
      " [ 5.8717  3.39    6.1488]\n",
      " [ 3.9852  5.4851  6.1488]\n",
      " [ 2.7577  6.1938  6.1488]\n",
      " [-2.0951  6.4482  7.3785]\n",
      " [-3.39    5.8717  7.3785]\n",
      " [-5.4851  3.9852  7.3785]\n",
      " [-6.1938  2.7577  7.3785]\n",
      " [-6.78    0.      7.3785]\n",
      " [-6.6318 -1.4096  7.3785]\n",
      " [-5.4851 -3.9852  7.3785]\n",
      " [-4.5367 -5.0385  7.3785]\n",
      " [-2.0951 -6.4482  7.3785]\n",
      " [-0.7087 -6.7429  7.3785]\n",
      " [ 2.0951 -6.4482  7.3785]\n",
      " [ 3.39   -5.8717  7.3785]\n",
      " [ 5.4851 -3.9852  7.3785]\n",
      " [ 6.1938 -2.7577  7.3785]\n",
      " [ 6.78   -0.      7.3785]\n",
      " [ 6.6318  1.4096  7.3785]\n",
      " [ 5.4851  3.9852  7.3785]\n",
      " [ 4.5367  5.0385  7.3785]\n",
      " [ 2.0951  6.4482  7.3785]\n",
      " [ 0.7087  6.7429  7.3785]\n",
      " [-3.9852  5.4851  8.6083]\n",
      " [-5.0385  4.5367  8.6083]\n",
      " [-6.4482  2.0951  8.6083]\n",
      " [-6.7429  0.7087  8.6083]\n",
      " [-6.4482 -2.0951  8.6083]\n",
      " [-5.8717 -3.39    8.6083]\n",
      " [-3.9852 -5.4851  8.6083]\n",
      " [-2.7577 -6.1938  8.6083]\n",
      " [-0.     -6.78    8.6083]\n",
      " [ 1.4096 -6.6318  8.6083]\n",
      " [ 3.9852 -5.4851  8.6083]\n",
      " [ 5.0385 -4.5367  8.6083]\n",
      " [ 6.4482 -2.0951  8.6083]\n",
      " [ 6.7429 -0.7087  8.6083]\n",
      " [ 6.4482  2.0951  8.6083]\n",
      " [ 5.8717  3.39    8.6083]\n",
      " [ 3.9852  5.4851  8.6083]\n",
      " [ 2.7577  6.1938  8.6083]\n",
      " [ 0.      6.78    8.6083]\n",
      " [-1.4096  6.6318  8.6083]\n",
      " [-5.4851  3.9852  9.838 ]\n",
      " [-6.1938  2.7577  9.838 ]\n",
      " [-6.78    0.      9.838 ]\n",
      " [-6.6318 -1.4096  9.838 ]\n",
      " [-5.4851 -3.9852  9.838 ]\n",
      " [-4.5367 -5.0385  9.838 ]\n",
      " [-2.0951 -6.4482  9.838 ]\n",
      " [-0.7087 -6.7429  9.838 ]\n",
      " [ 2.0951 -6.4482  9.838 ]\n",
      " [ 3.39   -5.8717  9.838 ]\n",
      " [ 5.4851 -3.9852  9.838 ]\n",
      " [ 6.1938 -2.7577  9.838 ]\n",
      " [ 6.78   -0.      9.838 ]\n",
      " [ 6.6318  1.4096  9.838 ]\n",
      " [ 5.4851  3.9852  9.838 ]\n",
      " [ 4.5367  5.0385  9.838 ]\n",
      " [ 2.0951  6.4482  9.838 ]\n",
      " [ 0.7087  6.7429  9.838 ]\n",
      " [-2.0951  6.4482  9.838 ]\n",
      " [-3.39    5.8717  9.838 ]\n",
      " [-6.4482  2.0951 11.0678]\n",
      " [-6.7429  0.7087 11.0678]\n",
      " [-6.4482 -2.0951 11.0678]\n",
      " [-5.8717 -3.39   11.0678]\n",
      " [-3.9852 -5.4851 11.0678]\n",
      " [-2.7577 -6.1938 11.0678]\n",
      " [-0.     -6.78   11.0678]\n",
      " [ 1.4096 -6.6318 11.0678]\n",
      " [ 3.9852 -5.4851 11.0678]\n",
      " [ 5.0385 -4.5367 11.0678]\n",
      " [ 6.4482 -2.0951 11.0678]\n",
      " [ 6.7429 -0.7087 11.0678]\n",
      " [ 6.4482  2.0951 11.0678]\n",
      " [ 5.8717  3.39   11.0678]\n",
      " [ 3.9852  5.4851 11.0678]\n",
      " [ 2.7577  6.1938 11.0678]\n",
      " [ 0.      6.78   11.0678]\n",
      " [-1.4096  6.6318 11.0678]\n",
      " [-3.9852  5.4851 11.0678]\n",
      " [-5.0385  4.5367 11.0678]]\n"
     ]
    }
   ],
   "source": [
    "coords=coords.astype(numpy.float)\n",
    "print(coords)"
   ]
  },
  {
   "cell_type": "code",
   "execution_count": 31,
   "metadata": {},
   "outputs": [
    {
     "name": "stdout",
     "output_type": "stream",
     "text": [
      "137\n",
      "138\n"
     ]
    }
   ],
   "source": [
    "for i in range(1,198):\n",
    "    if (coords[i,0]==0.7087) & (coords[i,1]==6.7429) & (coords[i,2]==7.3785):\n",
    "        print(i)\n",
    "    if (coords[i,0]==2.0951) & (coords[i,1]==6.4482) & (coords[i,2]==7.3785):\n",
    "        print(i)"
   ]
  },
  {
   "cell_type": "code",
   "execution_count": 32,
   "metadata": {},
   "outputs": [
    {
     "name": "stdout",
     "output_type": "stream",
     "text": [
      "[2.0951 6.4482 7.3785] [0.7087 6.7429 7.3785]\n"
     ]
    }
   ],
   "source": [
    "print(coords[137],coords[138])"
   ]
  },
  {
   "cell_type": "code",
   "execution_count": 7,
   "metadata": {},
   "outputs": [],
   "source": [
    "bond_coords=(coords[95:97,:])"
   ]
  },
  {
   "cell_type": "code",
   "execution_count": 8,
   "metadata": {},
   "outputs": [
    {
     "name": "stdout",
     "output_type": "stream",
     "text": [
      "[[ 6.78   -0.      4.919 ]\n",
      " [ 6.6318  1.4096  4.919 ]]\n"
     ]
    }
   ],
   "source": [
    "print(bond_coords)"
   ]
  },
  {
   "cell_type": "code",
   "execution_count": 9,
   "metadata": {},
   "outputs": [],
   "source": [
    "z_vals=bond_coords[0,2]"
   ]
  },
  {
   "cell_type": "code",
   "execution_count": 13,
   "metadata": {},
   "outputs": [],
   "source": [
    "theta=numpy.linspace(0,numpy.pi/2,10)"
   ]
  },
  {
   "cell_type": "code",
   "execution_count": 14,
   "metadata": {},
   "outputs": [
    {
     "name": "stdout",
     "output_type": "stream",
     "text": [
      "[0.         0.17453293 0.34906585 0.52359878 0.6981317  0.87266463\n",
      " 1.04719755 1.22173048 1.3962634  1.57079633]\n"
     ]
    }
   ],
   "source": [
    "print(theta)\n"
   ]
  },
  {
   "cell_type": "code",
   "execution_count": 15,
   "metadata": {},
   "outputs": [
    {
     "name": "stdout",
     "output_type": "stream",
     "text": [
      "1.4096577359416007\n"
     ]
    }
   ],
   "source": [
    "r=0.5*numpy.sqrt((6.1938-6.78)**2+(2.7577)**2)\n",
    "print(r)"
   ]
  },
  {
   "cell_type": "code",
   "execution_count": 16,
   "metadata": {},
   "outputs": [],
   "source": [
    "def z_eqn(theta):\n",
    "    z=z_vals+2*r*numpy.sin(0.5*theta)*numpy.cos(0.5*theta)\n",
    "    return z"
   ]
  },
  {
   "cell_type": "code",
   "execution_count": 17,
   "metadata": {},
   "outputs": [
    {
     "name": "stdout",
     "output_type": "stream",
     "text": [
      "[4.919, 5.163784496980349, 5.4011313408868835, 5.6238288679708, 5.82511052656204, 5.998860475317743, 6.139799409966682, 6.2436449722980925, 6.307241867448924, 6.328657735941601]\n"
     ]
    }
   ],
   "source": [
    "z_list=[]\n",
    "for num in theta:\n",
    "    new_z=z_eqn(num)\n",
    "    z_list.append(new_z)\n",
    "print(z_list)\n",
    "    \n",
    "    "
   ]
  },
  {
   "cell_type": "code",
   "execution_count": 18,
   "metadata": {},
   "outputs": [
    {
     "name": "stdout",
     "output_type": "stream",
     "text": [
      "[4.919, 4.67421550301965, 4.436868659113116, 4.2141711320291995, 4.012889473437959, 3.8391395246822566, 3.6982005900333172, 3.5943550277019067, 3.5307581325510755, 3.5093422640583984]\n"
     ]
    }
   ],
   "source": [
    "def z_eqn_(theta):\n",
    "    z=z_vals-2*r*numpy.sin(0.5*theta)*numpy.cos(0.5*theta)\n",
    "    return z\n",
    "z_list_=[]\n",
    "for num in theta:\n",
    "    new_z_=z_eqn_(num)\n",
    "    z_list_.append(new_z_)\n",
    "print(z_list_)"
   ]
  },
  {
   "cell_type": "code",
   "execution_count": 19,
   "metadata": {},
   "outputs": [
    {
     "name": "stdout",
     "output_type": "stream",
     "text": [
      "[[ 6.1938 -2.7577  4.919 ]\n",
      " [ 6.78   -0.      4.919 ]]\n"
     ]
    }
   ],
   "source": [
    "print(bond_coords)"
   ]
  },
  {
   "cell_type": "code",
   "execution_count": 20,
   "metadata": {},
   "outputs": [],
   "source": [
    "def line_eq(x1,x2,y1,y2):\n",
    "    m=(y2-y1)/(x2-x1)\n",
    "    b=m*(-x2)+y2\n",
    "    return m,b"
   ]
  },
  {
   "cell_type": "code",
   "execution_count": 21,
   "metadata": {},
   "outputs": [],
   "source": [
    "m,b=line_eq(6.1938,6.78,-2.7577,0)"
   ]
  },
  {
   "cell_type": "code",
   "execution_count": 22,
   "metadata": {},
   "outputs": [
    {
     "name": "stdout",
     "output_type": "stream",
     "text": [
      "-31.895609007164797\n"
     ]
    }
   ],
   "source": [
    "print(b)"
   ]
  },
  {
   "cell_type": "code",
   "execution_count": 23,
   "metadata": {},
   "outputs": [
    {
     "name": "stdout",
     "output_type": "stream",
     "text": [
      "[0.0, 0.021415868492676387, 0.08501276364350792, 0.1888583259749183, 0.3297972606238578, 0.5035472093795604, 0.7048288679708002, 0.9275263950547166, 1.1648732389612506, 1.409657735941601]\n"
     ]
    }
   ],
   "source": [
    "def distance_xy(theta):\n",
    "    d=2*r*numpy.sin(0.5*theta)**2\n",
    "    return d\n",
    "d_list=[]\n",
    "for num in theta:\n",
    "    d=distance_xy(num)\n",
    "    d_list.append(d)\n",
    "print(d_list)"
   ]
  },
  {
   "cell_type": "code",
   "execution_count": 24,
   "metadata": {},
   "outputs": [
    {
     "name": "stdout",
     "output_type": "stream",
     "text": [
      "[6.1938, 6.198252847592122, 6.211476092847651, 6.233067954150782, 6.262372373721828, 6.298498951600876, 6.34035, 6.386653895991247, 6.436003719125823, 6.4869]\n",
      "[-2.7577, -2.7367521702408824, -2.67454517017065, -2.5729691280081726, -2.4351103803946033, -2.265157695616284, -2.0682749999999994, -1.8504444746245983, -1.6182847897760466, -1.37885]\n"
     ]
    }
   ],
   "source": [
    "from scipy.optimize import fsolve\n",
    "x_list=[]\n",
    "y_list=[]\n",
    "for num in d_list:\n",
    "    def xy_eq(z):\n",
    "        x=z[0]\n",
    "        y=z[1]\n",
    "    \n",
    "        F=numpy.empty((2))\n",
    "        F[0]=numpy.sqrt((x-6.1938)**2+(y+2.7577)**2)-num\n",
    "        F[1]=y-m*x-b\n",
    "        return F\n",
    "    zguess=numpy.array([6.1938,-2.7577])\n",
    "    z=fsolve(xy_eq,zguess)\n",
    "    x_list.append(z[0])\n",
    "    y_list.append(z[1])\n",
    "print(x_list)\n",
    "print(y_list)\n",
    "\n",
    "    "
   ]
  },
  {
   "cell_type": "code",
   "execution_count": 25,
   "metadata": {},
   "outputs": [
    {
     "name": "stdout",
     "output_type": "stream",
     "text": [
      "[[ 6.1938 -2.7577  4.919 ]\n",
      " [ 6.78   -0.      4.919 ]]\n"
     ]
    }
   ],
   "source": [
    "print(bond_coords)"
   ]
  },
  {
   "cell_type": "code",
   "execution_count": 26,
   "metadata": {},
   "outputs": [
    {
     "name": "stdout",
     "output_type": "stream",
     "text": [
      "[2.8193154718832014, 2.7978996033905252, 2.734302708239693, 2.6304571459082835, 2.4895182112593432, 2.315768262503641, 2.1144866039124013, 1.8917890768284846, 1.6544422329219506, 1.409657735941601]\n"
     ]
    }
   ],
   "source": [
    "theta2=numpy.linspace(numpy.pi,numpy.pi/2,10)\n",
    "def distance_xy_(theta):\n",
    "    d=2*r*numpy.sin(0.5*theta)**2\n",
    "    return d\n",
    "d_list2=[]\n",
    "for num in theta2:\n",
    "    d=distance_xy(num)\n",
    "    d_list2.append(d)\n",
    "print(d_list2)"
   ]
  },
  {
   "cell_type": "code",
   "execution_count": 27,
   "metadata": {},
   "outputs": [
    {
     "name": "stdout",
     "output_type": "stream",
     "text": [
      "[6.78, 6.775547152407879, 6.76232390715235, 6.74073204584922, 6.711427626278172, 6.675301048399124, 6.63345, 6.587146104008753, 6.537796280874177, 6.4869]\n",
      "[0.0, -0.020947829759116528, -0.08315482982935035, -0.18473087199182664, -0.3225896196053976, -0.49254230438371555, -0.6894249999999996, -0.9072555253754018, -1.139415210223953, -1.3788499999999997]\n"
     ]
    }
   ],
   "source": [
    "x_list_=[]\n",
    "y_list_=[]\n",
    "for num in d_list2:\n",
    "    def xy_eq_(z):\n",
    "        x=z[0]\n",
    "        y=z[1]\n",
    "    \n",
    "        F=numpy.empty((2))\n",
    "        F[0]=numpy.sqrt((x-6.1938)**2+(y+2.7577)**2)-num\n",
    "        F[1]=y-m*x-b\n",
    "        return F\n",
    "    zguess=numpy.array([6.78,0])\n",
    "    z=fsolve(xy_eq_,zguess)\n",
    "    x_list_.append(z[0])\n",
    "    y_list_.append(z[1])\n",
    "print(x_list_)\n",
    "print(y_list_)"
   ]
  },
  {
   "cell_type": "code",
   "execution_count": 28,
   "metadata": {},
   "outputs": [
    {
     "name": "stdout",
     "output_type": "stream",
     "text": [
      "[6.1938, 6.198252847592122, 6.211476092847651, 6.233067954150782, 6.262372373721828, 6.298498951600876, 6.34035, 6.386653895991247, 6.436003719125823, 6.4869]\n",
      "[6.78, 6.775547152407879, 6.76232390715235, 6.74073204584922, 6.711427626278172, 6.675301048399124, 6.63345, 6.587146104008753, 6.537796280874177, 6.4869]\n",
      "[-2.7577, -2.7367521702408824, -2.67454517017065, -2.5729691280081726, -2.4351103803946033, -2.265157695616284, -2.0682749999999994, -1.8504444746245983, -1.6182847897760466, -1.37885]\n",
      "[0.0, -0.020947829759116528, -0.08315482982935035, -0.18473087199182664, -0.3225896196053976, -0.49254230438371555, -0.6894249999999996, -0.9072555253754018, -1.139415210223953, -1.3788499999999997]\n",
      "[4.919, 5.163784496980349, 5.4011313408868835, 5.6238288679708, 5.82511052656204, 5.998860475317743, 6.139799409966682, 6.2436449722980925, 6.307241867448924, 6.328657735941601]\n",
      "[4.919, 4.67421550301965, 4.436868659113116, 4.2141711320291995, 4.012889473437959, 3.8391395246822566, 3.6982005900333172, 3.5943550277019067, 3.5307581325510755, 3.5093422640583984]\n"
     ]
    }
   ],
   "source": [
    "print(x_list)\n",
    "print(x_list_)\n",
    "print(y_list)\n",
    "print(y_list_)\n",
    "print(z_list)\n",
    "print(z_list_)"
   ]
  },
  {
   "cell_type": "code",
   "execution_count": 76,
   "metadata": {},
   "outputs": [],
   "source": [
    "line98=[]\n",
    "line99=[]\n",
    "for num in range (0, len(x_list)):\n",
    "    x1=str(x_list[num])\n",
    "    x2=str(x_list_[num])\n",
    "    y1=str(y_list[num])\n",
    "    y2=str(y_list_[num])\n",
    "    z1=str(z_list[num])\n",
    "    z2=str(z_list_[num])\n",
    "    l98=F'C  {x1} \\t {y1} \\t {z1}'\n",
    "    l99=F'C  {x2} \\t {y2} \\t {z2}'\n",
    "    line98.append(l98)\n",
    "    line99.append(l99) "
   ]
  },
  {
   "cell_type": "code",
   "execution_count": 77,
   "metadata": {},
   "outputs": [],
   "source": [
    "\n",
    "for num in range (0,len(line99)):\n",
    "    line_98=line98[num]\n",
    "    line_99=line99[num]\n",
    "    with open(cnt_file,'r') as file:\n",
    "        new_file_content=\"\"\n",
    "        for line in file:\n",
    "            stripped_line=line.strip()\n",
    "            new_line=stripped_line.replace('C 6.1938         -2.7577        4.9190',line_98)\n",
    "            new_file_content += new_line +\"\\n\"\n",
    "    with open('cnt_file_{}.xyz'.format(num),'w+') as file:\n",
    "        file.write(new_file_content)\n",
    "    with open('cnt_file_{}.xyz'.format(num),'r') as file:\n",
    "        new_file_content2=\"\"\n",
    "        for line in file:\n",
    "            stripped_line=line.strip()\n",
    "            new_line_2=stripped_line.replace('C  6.7800         -0.0000        4.9190',line_99)\n",
    "            new_file_content2 += new_line_2 +\"\\n\"\n",
    "    with open('cnt_file_{}.xyz'.format(num),'w') as file:\n",
    "        file.write(new_file_content2)\n",
    "\n",
    "    "
   ]
  },
  {
   "cell_type": "code",
   "execution_count": 35,
   "metadata": {},
   "outputs": [
    {
     "data": {
      "text/plain": [
       "['C', '6.1938', '-2.7577', '4.919']"
      ]
     },
     "execution_count": 35,
     "metadata": {},
     "output_type": "execute_result"
    }
   ],
   "source": [
    "str.split(line98[0])"
   ]
  },
  {
   "cell_type": "code",
   "execution_count": 63,
   "metadata": {},
   "outputs": [],
   "source": [
    "for num in range (0,len(line98)):\n",
    "    new_coords=cnt_coords[0:96,:], str.split(line98[num]), str.split(line99[num])\n",
    "    new_string=str(new_coords)\n",
    "    with open('cnt_file_{}.xyz'.format(num),'w+') as file:\n",
    "        file.writelines(new_string)"
   ]
  },
  {
   "cell_type": "code",
   "execution_count": null,
   "metadata": {},
   "outputs": [],
   "source": []
  },
  {
   "cell_type": "code",
   "execution_count": null,
   "metadata": {},
   "outputs": [],
   "source": []
  }
 ],
 "metadata": {
  "kernelspec": {
   "display_name": "Python 3",
   "language": "python",
   "name": "python3"
  },
  "language_info": {
   "codemirror_mode": {
    "name": "ipython",
    "version": 3
   },
   "file_extension": ".py",
   "mimetype": "text/x-python",
   "name": "python",
   "nbconvert_exporter": "python",
   "pygments_lexer": "ipython3",
   "version": "3.7.3"
  }
 },
 "nbformat": 4,
 "nbformat_minor": 2
}
