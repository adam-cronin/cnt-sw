{
 "cells": [
  {
   "cell_type": "code",
   "execution_count": 2,
   "metadata": {},
   "outputs": [],
   "source": [
    "def line_eq(x1,x2,y1,y2):\n",
    "    m=(y2-y1)/(x2-x1)\n",
    "    b=m*(-x2)+y2\n",
    "    return m,b"
   ]
  },
  {
   "cell_type": "code",
   "execution_count": 3,
   "metadata": {},
   "outputs": [],
   "source": [
    "def distance_xy(theta):\n",
    "    d=2*r*numpy.sin(0.5*theta/a)*numpy.cos(0.5*theta/a)\n",
    "    return d\n"
   ]
  },
  {
   "cell_type": "code",
   "execution_count": 4,
   "metadata": {},
   "outputs": [],
   "source": [
    "import numpy"
   ]
  },
  {
   "cell_type": "code",
   "execution_count": 5,
   "metadata": {},
   "outputs": [
    {
     "name": "stdout",
     "output_type": "stream",
     "text": [
      "137\n",
      "138\n"
     ]
    }
   ],
   "source": [
    "import os\n",
    "cnt_file=os.path.join('nt-10-10-5.xyz')\n",
    "import numpy\n",
    "cnt_coords=numpy.genfromtxt(fname=cnt_file,dtype='unicode',skip_header=2)\n",
    "coords=(cnt_coords[:,1:])\n",
    "coords=coords.astype(numpy.float)\n",
    "for i in range(1,198):\n",
    "    if (coords[i,0]==0.7087) & (coords[i,1]==6.7429) & (coords[i,2]==7.3785):\n",
    "        print(i)\n",
    "    if (coords[i,0]==2.0951) & (coords[i,1]==6.4482) & (coords[i,2]==7.3785):\n",
    "        print(i)"
   ]
  },
  {
   "cell_type": "code",
   "execution_count": 6,
   "metadata": {},
   "outputs": [
    {
     "name": "stdout",
     "output_type": "stream",
     "text": [
      "[2.0951 6.4482 7.3785]\n"
     ]
    }
   ],
   "source": [
    "b1=coords[138]\n",
    "b2=coords[137]\n",
    "print(b2)\n"
   ]
  },
  {
   "cell_type": "code",
   "execution_count": 7,
   "metadata": {},
   "outputs": [
    {
     "name": "stdout",
     "output_type": "stream",
     "text": [
      "0.14734999999999987\n",
      "0.015487704493312049\n",
      "0.7086877044933121\n",
      "0.20944750373662377\n"
     ]
    }
   ],
   "source": [
    "import sympy as sym\n",
    "\n",
    "x1=b1[0]\n",
    "x2=b2[0]\n",
    "y1=b1[1]\n",
    "y2=b2[1]\n",
    "z=b1[2]\n",
    "r=0.5*numpy.sqrt((x2-x1)**2+(y2-y1)**2)\n",
    "dy=(y1-y2)/2\n",
    "print(dy)\n",
    "dx=(x1-x2+2*r)/2\n",
    "print(dx)\n",
    "import math \n",
    "beta=math.asin(dy/r)\n",
    "print(r)\n",
    "print(beta)"
   ]
  },
  {
   "cell_type": "code",
   "execution_count": 8,
   "metadata": {},
   "outputs": [],
   "source": [
    "#rotate 0 to 90\n",
    "theta=numpy.linspace(0,3*numpy.pi/2,28)\n",
    "def y_eqn1(theta):\n",
    "    y=(y1-dy)+r*numpy.sin(beta+theta)\n",
    "    return y\n",
    "def y_eqn2(theta):\n",
    "    y=(y2+dy)-r*numpy.sin(beta+theta)\n",
    "    return y\n",
    "def x_eqn1(theta):\n",
    "    x=(x1-dx)+r-r*numpy.cos(beta+theta)\n",
    "    return x\n",
    "def x_eqn2(theta):\n",
    "    x=(x2+dx)-r+r*numpy.cos(beta+theta)\n",
    "    return x"
   ]
  },
  {
   "cell_type": "code",
   "execution_count": 9,
   "metadata": {},
   "outputs": [
    {
     "name": "stdout",
     "output_type": "stream",
     "text": [
      "[6.742899999999999, 6.861034339165064, 6.971102071026157, 7.069758843247636, 7.15400701972829, 7.221286762257386, 7.269553809903372, 7.297341592847828, 7.303805793367284, 7.288749999999999, 7.25263167540884, 7.196548256609754, 7.122203809903373, 7.031857253682763, 6.928253722341127, 6.814541156752362, 6.694174655680549, 6.570811494352367, 6.4482, 6.330065660834935, 6.219997928973842, 6.121341156752362, 6.037092980271709, 5.9698132377426125, 5.921546190096627, 5.893758407152171, 5.887294206632714, 5.902349999999999]\n",
      "[6.4482, 6.330065660834935, 6.219997928973842, 6.121341156752362, 6.037092980271709, 5.9698132377426125, 5.921546190096627, 5.893758407152171, 5.887294206632714, 5.902349999999999, 5.938468324591159, 5.994551743390245, 6.068896190096626, 6.1592427463172355, 6.262846277658872, 6.376558843247636, 6.4969253443194495, 6.620288505647632, 6.742899999999999, 6.861034339165064, 6.971102071026157, 7.069758843247636, 7.15400701972829, 7.221286762257386, 7.269553809903372, 7.297341592847828, 7.303805793367284, 7.288749999999999]\n",
      "[0.7086999999999999, 0.7448183245911594, 0.8009017433902453, 0.8752461900966269, 0.9655927463172358, 1.0691962776588722, 1.1829088432476367, 1.3032753443194496, 1.4266385056476325, 1.5492499999999998, 1.6673843391650647, 1.7774520710261572, 1.8761088432476367, 1.9603570197282905, 2.027636762257387, 2.0759038099033726, 2.103691592847829, 2.1101557933672845, 2.0951, 2.0589816754088406, 2.0028982566097544, 1.928553809903373, 1.838207253682764, 1.7346037223411277, 1.6208911567523632, 1.5005246556805505, 1.3771614943523671, 1.25455]\n",
      "[2.0951, 2.0589816754088406, 2.0028982566097544, 1.928553809903373, 1.838207253682764, 1.7346037223411277, 1.6208911567523632, 1.5005246556805503, 1.3771614943523673, 1.25455, 1.1364156608349352, 1.0263479289738426, 0.9276911567523631, 0.8434429802717094, 0.7761632377426129, 0.7278961900966271, 0.7001084071521709, 0.6936442066327151, 0.7086999999999999, 0.7448183245911594, 0.8009017433902454, 0.8752461900966269, 0.9655927463172358, 1.0691962776588722, 1.1829088432476367, 1.3032753443194494, 1.4266385056476327, 1.5492499999999998]\n"
     ]
    },
    {
     "data": {
      "text/plain": [
       "28"
      ]
     },
     "execution_count": 9,
     "metadata": {},
     "output_type": "execute_result"
    }
   ],
   "source": [
    "ylist1=[]\n",
    "for num in theta:\n",
    "    new_y=y_eqn1(num)\n",
    "    ylist1.append(new_y)\n",
    "print(ylist1)   \n",
    "ylist2=[]\n",
    "for num in theta:\n",
    "    new_y=y_eqn2(num)\n",
    "    ylist2.append(new_y)\n",
    "print(ylist2)\n",
    "xlist1=[]\n",
    "for num in theta:\n",
    "    new_x=x_eqn1(num)\n",
    "    xlist1.append(new_x)\n",
    "print(xlist1)\n",
    "xlist2=[]\n",
    "for num in theta:\n",
    "    new_x=x_eqn2(num)\n",
    "    xlist2.append(new_x)\n",
    "print(xlist2)\n",
    "type(xlist1[0])\n",
    "len(xlist1)"
   ]
  },
  {
   "cell_type": "code",
   "execution_count": 10,
   "metadata": {},
   "outputs": [
    {
     "name": "stdout",
     "output_type": "stream",
     "text": [
      "0.7086877044933121\n"
     ]
    }
   ],
   "source": [
    "print(r)"
   ]
  },
  {
   "cell_type": "code",
   "execution_count": 11,
   "metadata": {},
   "outputs": [
    {
     "name": "stdout",
     "output_type": "stream",
     "text": [
      "-0.21256491633006264\n"
     ]
    }
   ],
   "source": [
    "slope=(ylist2[0]-ylist1[0])/(xlist2[0]-xlist1[0])\n",
    "print(slope)"
   ]
  },
  {
   "cell_type": "code",
   "execution_count": 12,
   "metadata": {},
   "outputs": [],
   "source": [
    "r_=[]\n",
    "for i in range(0,28):\n",
    "    d=numpy.absolute(ylist1[i]-slope*xlist1[i]+slope*xlist1[0]-ylist1[0])/(numpy.sqrt(1+(slope)**2))\n",
    "    r_.append(d)"
   ]
  },
  {
   "cell_type": "code",
   "execution_count": 13,
   "metadata": {},
   "outputs": [
    {
     "name": "stdout",
     "output_type": "stream",
     "text": [
      "[0.0, 0.12306232842022477, 0.24238547026394244, 0.35434385224665693, 0.45553567558549807, 0.5428862779338464, 0.6137415554408878, 0.6659486063540703, 0.6979211458494388, 0.7086877044933122, 0.6979211458494388, 0.6659486063540703, 0.6137415554408878, 0.5428862779338464, 0.4555356755854963, 0.3543438522466561, 0.24238547026394158, 0.12306232842022391, 0.0, 0.12306232842022391, 0.24238547026394244, 0.3543438522466561, 0.4555356755854972, 0.5428862779338455, 0.6137415554408869, 0.6659486063540694, 0.6979211458494388, 0.7086877044933122]\n"
     ]
    }
   ],
   "source": [
    "print(r_)"
   ]
  },
  {
   "cell_type": "code",
   "execution_count": 14,
   "metadata": {},
   "outputs": [],
   "source": [
    "phi=3*numpy.pi/8\n",
    "psi=11*numpy.pi/8"
   ]
  },
  {
   "cell_type": "code",
   "execution_count": 15,
   "metadata": {},
   "outputs": [],
   "source": [
    "oldz=7.3785\n",
    "newz1=[]\n",
    "newz2=[]\n",
    "for i in range(0,12):\n",
    "    dz=2*r_[i]*numpy.sin(0.5*phi)**2\n",
    "    newz=oldz+dz\n",
    "    newz1.append(newz)\n",
    "    newz_2=oldz-dz\n",
    "    newz2.append(newz_2)"
   ]
  },
  {
   "cell_type": "code",
   "execution_count": 16,
   "metadata": {},
   "outputs": [],
   "source": [
    "xmid= (xlist1[0]+xlist2[0])/2\n",
    "ymid=(ylist1[0]+ylist2[0])/2\n",
    "zmid=7.3785"
   ]
  },
  {
   "cell_type": "code",
   "execution_count": 17,
   "metadata": {
    "scrolled": true
   },
   "outputs": [
    {
     "name": "stdout",
     "output_type": "stream",
     "text": [
      "x5=[0.7087000000000001, 0.7290230091662337, 0.7697910452067656, 0.829765391976125, 0.9071237592962087, 0.9995156523212192, 1.1041337901341444, 1.217799403556871, 1.337058820443126, 1.458288403758996, 1.5778046539605581, 1.6919761302635785]\n",
      "y5=[6.7429, 6.78672614335537, 6.824743496334685, 6.855796920905376, 6.878942874475653, 6.893478078958701, 6.898960889521471, 6.89522471373945, 6.882383073423177, 6.86082615531548, 6.831208955464732, 6.794431377501375]\n",
      "z3=[7.3785, 7.454468414185533, 7.5281285665479105, 7.597242330631438, 7.659709719687689, 7.713632693710213, 7.75737283041968, 7.789601107895747, 7.809338286235599, 7.815984661262875, 7.809338286235599, 7.789601107895747]\n",
      "x6=[2.0950999999999995, 2.074776990833766, 2.0340089547932343, 1.9740346080238749, 1.8966762407037911, 1.8042843476787807, 1.6996662098658555, 1.5860005964431287, 1.4667411795568739, 1.3455115962410038, 1.2259953460394417, 1.1118238697364213]\n",
      "y6=[6.448199999999999, 6.404373856644629, 6.366356503665314, 6.335303079094623, 6.312157125524346, 6.297621921041298, 6.292139110478527, 6.295875286260549, 6.308716926576822, 6.330273844684519, 6.359891044535266, 6.396668622498623]\n",
      "z4=[7.3785, 7.302531585814466, 7.228871433452089, 7.159757669368561, 7.09729028031231, 7.043367306289786, 6.99962716958032, 6.967398892104253, 6.947661713764401, 6.941015338737125, 6.947661713764401, 6.967398892104253]\n"
     ]
    }
   ],
   "source": [
    "from scipy.optimize import fsolve\n",
    "x_list=[]\n",
    "y_list=[]\n",
    "for i in range(0,12):\n",
    "    def xy_eq(z):\n",
    "        x=z[0]\n",
    "        y=z[1]\n",
    "        m=(xlist1[0]-xlist2[0])/(ylist2[0]-ylist1[0])\n",
    "        b=-m*xlist1[i]+ylist1[i]\n",
    "        F=numpy.empty((2))\n",
    "        F[0]=numpy.sqrt((x-xlist1[i])**2+(y-ylist1[i])**2)-2*r_[i]*numpy.sin(0.5*phi)**2\n",
    "        F[1]=y-m*x-b\n",
    "        return F\n",
    "    zguess=numpy.array([6.1938,-2.7577])\n",
    "    z=fsolve(xy_eq,zguess)\n",
    "    x_list.append(z[0])\n",
    "    y_list.append(z[1])\n",
    "x_list_=[]\n",
    "y_list_=[]\n",
    "newz_=[]\n",
    "for i in range(0,12):\n",
    "    dx=x_list[i]-xmid\n",
    "    dy=y_list[i]-ymid\n",
    "    dz=newz1[i]-zmid\n",
    "    xx=x_list[i]-2*dx\n",
    "    yy=y_list[i]-2*dy\n",
    "    zz=newz1[i]-2*dz\n",
    "    x_list_.append(xx)\n",
    "    y_list_.append(yy)\n",
    "    newz_.append(zz)\n",
    "print(f'x5={x_list}')\n",
    "print(f'y5={y_list}')\n",
    "print(f'z3={newz1}')\n",
    "print(f'x6={x_list_}')\n",
    "print(f'y6={y_list_}')\n",
    "print(f'z4={newz_}')\n",
    "    \n",
    "    \n"
   ]
  },
  {
   "cell_type": "code",
   "execution_count": 18,
   "metadata": {},
   "outputs": [],
   "source": [
    "import psi4"
   ]
  },
  {
   "cell_type": "code",
   "execution_count": 19,
   "metadata": {},
   "outputs": [],
   "source": [
    "def rot_energy(i):\n",
    "    CNT=psi4.geometry(f\"\"\"\n",
    "    0 1\n",
    "    C 2.0951 6.4482 4.919\n",
    "    C 0.7087 6.7429 4.919\n",
    "    C -2.0951 6.4482 4.919\n",
    "    C 0.0 6.78 6.1488\n",
    "    C -1.4096 6.6318 6.1488\n",
    "    C 3.9852 5.4851 6.1488\n",
    "    C 2.7577 6.1938 6.1488\n",
    "    C -2.0951 6.4482 7.3785\n",
    "    C {x_list_[i]} {y_list_[i]} {newz_[i]}\n",
    "    C {x_list[i]} {y_list[i]} {newz1[i]}\n",
    "    C 3.9852 5.4851 8.6083\n",
    "    C 2.7577 6.1938 8.6083\n",
    "    C 0.0 6.78 8.6083\n",
    "    C -1.4096 6.6318 8.6083\n",
    "    C 2.0951 6.4482 9.838\n",
    "    C 0.7087 6.7429 9.838\n",
    "    C -2.0951 6.4482 9.838\n",
    "    \"\"\")\n",
    "    energy=psi4.energy('scf/cc-pvdz',molecule=CNT)\n",
    "    return energy"
   ]
  },
  {
   "cell_type": "code",
   "execution_count": 74,
   "metadata": {},
   "outputs": [
    {
     "data": {
      "text/plain": [
       "-642.6519231867235"
      ]
     },
     "execution_count": 74,
     "metadata": {},
     "output_type": "execute_result"
    }
   ],
   "source": [
    "rot_energy(0)"
   ]
  },
  {
   "cell_type": "code",
   "execution_count": 75,
   "metadata": {},
   "outputs": [
    {
     "data": {
      "text/plain": [
       "-642.6332303187896"
      ]
     },
     "execution_count": 75,
     "metadata": {},
     "output_type": "execute_result"
    }
   ],
   "source": [
    "rot_energy(1)"
   ]
  },
  {
   "cell_type": "code",
   "execution_count": 76,
   "metadata": {},
   "outputs": [
    {
     "data": {
      "text/plain": [
       "-642.5807480591029"
      ]
     },
     "execution_count": 76,
     "metadata": {},
     "output_type": "execute_result"
    }
   ],
   "source": [
    "rot_energy(2)"
   ]
  },
  {
   "cell_type": "code",
   "execution_count": 77,
   "metadata": {},
   "outputs": [
    {
     "data": {
      "text/plain": [
       "-642.5041202041796"
      ]
     },
     "execution_count": 77,
     "metadata": {},
     "output_type": "execute_result"
    }
   ],
   "source": [
    "rot_energy(3)"
   ]
  },
  {
   "cell_type": "code",
   "execution_count": 78,
   "metadata": {},
   "outputs": [
    {
     "data": {
      "text/plain": [
       "-642.4149602537589"
      ]
     },
     "execution_count": 78,
     "metadata": {},
     "output_type": "execute_result"
    }
   ],
   "source": [
    "rot_energy(4)"
   ]
  },
  {
   "cell_type": "code",
   "execution_count": null,
   "metadata": {},
   "outputs": [],
   "source": [
    "#22.5 deg from plane\n",
    "g0=-642.6519231867235\n",
    "g1=-642.6332303187896\n",
    "g2=-642.5807480591029\n",
    "g3=-642.5041202041796\n",
    "g4=-642.4149602537589\n",
    "g5=-642.3220293983563\n",
    "g7=-642.1599710491342\n",
    "g8=-642.1166300740169\n",
    "g9=-642.1035767835853\n",
    "g10=-642.119160415953\n",
    "g11=-642.1638444686807"
   ]
  },
  {
   "cell_type": "code",
   "execution_count": 20,
   "metadata": {},
   "outputs": [
    {
     "data": {
      "text/plain": [
       "-642.3220293983563"
      ]
     },
     "execution_count": 20,
     "metadata": {},
     "output_type": "execute_result"
    }
   ],
   "source": [
    "rot_energy(5)"
   ]
  },
  {
   "cell_type": "code",
   "execution_count": 21,
   "metadata": {},
   "outputs": [
    {
     "data": {
      "text/plain": [
       "-642.1599710491342"
      ]
     },
     "execution_count": 21,
     "metadata": {},
     "output_type": "execute_result"
    }
   ],
   "source": [
    "rot_energy(7)\n"
   ]
  },
  {
   "cell_type": "code",
   "execution_count": 22,
   "metadata": {},
   "outputs": [
    {
     "data": {
      "text/plain": [
       "-642.1166300740169"
      ]
     },
     "execution_count": 22,
     "metadata": {},
     "output_type": "execute_result"
    }
   ],
   "source": [
    "rot_energy(8)\n",
    "\n"
   ]
  },
  {
   "cell_type": "code",
   "execution_count": 23,
   "metadata": {},
   "outputs": [
    {
     "data": {
      "text/plain": [
       "-642.1035767835853"
      ]
     },
     "execution_count": 23,
     "metadata": {},
     "output_type": "execute_result"
    }
   ],
   "source": [
    "rot_energy(9)"
   ]
  },
  {
   "cell_type": "code",
   "execution_count": 24,
   "metadata": {},
   "outputs": [
    {
     "data": {
      "text/plain": [
       "-642.119160415953"
      ]
     },
     "execution_count": 24,
     "metadata": {},
     "output_type": "execute_result"
    }
   ],
   "source": [
    "rot_energy(10)"
   ]
  },
  {
   "cell_type": "code",
   "execution_count": 32,
   "metadata": {},
   "outputs": [],
   "source": [
    "#in plane rot\n",
    "e0=-642.6519231867235\n",
    "e10=-642.6062836608331\n",
    "e20=-642.4829389907369\n",
    "e30=-642.3238693508039\n",
    "e60=-642.1711545600748\n",
    "e70=-642.1974994493254\n",
    "e80=-642.2152607525553\n",
    "e90=-642.2239237421411\n",
    "e100=-642.2152692547206\n"
   ]
  },
  {
   "cell_type": "code",
   "execution_count": 25,
   "metadata": {},
   "outputs": [
    {
     "data": {
      "text/plain": [
       "-642.1638444686807"
      ]
     },
     "execution_count": 25,
     "metadata": {},
     "output_type": "execute_result"
    }
   ],
   "source": [
    "rot_energy(11)"
   ]
  },
  {
   "cell_type": "code",
   "execution_count": 67,
   "metadata": {},
   "outputs": [],
   "source": [
    "#45 to plane rot\n",
    "x0=-642.6519231867235\n",
    "x1=-642.6419708608429\n",
    "x2=-642.6113565376745\n",
    "x3=-642.558553894317\n",
    "x4=-642.48128368854\n",
    "x5=-642.3796684335676\n",
    "x6=-642.2618427672475\n",
    "x7=-642.1775980160689\n",
    "x8=-642.121228266816\n",
    "x9=-642.1021026042205\n",
    "x10=-642.126596413529\n",
    "x11=-642.1902296315136"
   ]
  },
  {
   "cell_type": "code",
   "execution_count": null,
   "metadata": {},
   "outputs": [],
   "source": []
  }
 ],
 "metadata": {
  "kernelspec": {
   "display_name": "Python 3",
   "language": "python",
   "name": "python3"
  },
  "language_info": {
   "codemirror_mode": {
    "name": "ipython",
    "version": 3
   },
   "file_extension": ".py",
   "mimetype": "text/x-python",
   "name": "python",
   "nbconvert_exporter": "python",
   "pygments_lexer": "ipython3",
   "version": "3.7.3"
  }
 },
 "nbformat": 4,
 "nbformat_minor": 2
}
