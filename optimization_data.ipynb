{
 "cells": [
  {
   "cell_type": "markdown",
   "metadata": {},
   "source": [
    "# Optimization of nt(5,5)x5\n"
   ]
  },
  {
   "cell_type": "code",
   "execution_count": 7,
   "metadata": {},
   "outputs": [
    {
     "name": "stdout",
     "output_type": "stream",
     "text": [
      "The energy of defect formation is 0.07530095202810116 Hartrees = 2.049044326017472 eV\n"
     ]
    }
   ],
   "source": [
    "min_energy=-1954.24615369\n",
    "swd_energy=-1954.170852737972\n",
    "E=swd_energy-min_energy\n",
    "print(f'The energy of defect formation is {E} Hartrees = {E*27.2114} eV')"
   ]
  },
  {
   "cell_type": "code",
   "execution_count": 9,
   "metadata": {},
   "outputs": [
    {
     "name": "stdout",
     "output_type": "stream",
     "text": [
      "6.839317541901853\n"
     ]
    }
   ],
   "source": [
    "b=[3.3530715711,-0.0165160444,-0.0885617242]\n",
    "c=[-3.4342673397,0.8244908390,-0.1202219671]\n",
    "import numpy as np\n",
    "d = np.sqrt((b[0]-c[0])**2+(b[1]-c[1])**2+(b[2]-c[2])**2)\n",
    "print(d)"
   ]
  },
  {
   "cell_type": "code",
   "execution_count": null,
   "metadata": {},
   "outputs": [],
   "source": []
  }
 ],
 "metadata": {
  "kernelspec": {
   "display_name": "Python 3",
   "language": "python",
   "name": "python3"
  },
  "language_info": {
   "codemirror_mode": {
    "name": "ipython",
    "version": 3
   },
   "file_extension": ".py",
   "mimetype": "text/x-python",
   "name": "python",
   "nbconvert_exporter": "python",
   "pygments_lexer": "ipython3",
   "version": "3.7.3"
  }
 },
 "nbformat": 4,
 "nbformat_minor": 2
}
