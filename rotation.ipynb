{
 "cells": [
  {
   "cell_type": "markdown",
   "metadata": {},
   "source": [
    "# Rotating two bonded atoms about their midpoint "
   ]
  },
  {
   "cell_type": "code",
   "execution_count": 1,
   "metadata": {},
   "outputs": [
    {
     "name": "stdout",
     "output_type": "stream",
     "text": [
      "[0.4730797361375, 0.17508116575299998, 3.4045579602845004]\n"
     ]
    }
   ],
   "source": [
    "#input an xyz file below and define b1 and b2 to be coords of rotating atoms and choose a third point to define the plane (midpoint of b3 and b4)\n",
    "import os\n",
    "cnt_file=os.path.join('nt559_opt.xyz')\n",
    "import numpy\n",
    "cnt_coords=numpy.genfromtxt(fname=cnt_file,dtype='unicode',skip_header=2)\n",
    "coords=(cnt_coords[:,1:])\n",
    "coords=coords.astype(numpy.float)\n",
    "b1=coords[41]\n",
    "b2=coords[42]\n",
    "b3=coords[22]\n",
    "b4=coords[21]\n",
    "x1=b2[0]\n",
    "x2=b1[0]\n",
    "y1=b2[1]\n",
    "y2=b1[1]\n",
    "z1=b2[2]\n",
    "z2=b1[2]\n",
    "x3=(b3[0]+b4[0])/2\n",
    "y3=(b3[1]+b4[1])/2\n",
    "z3=(b3[2]+b4[2])/2\n",
    "r=0.5*numpy.sqrt((x2-x1)**2+(y2-y1)**2+(z2-z1)**2)\n",
    "M=[(b1[0]+b2[0])/2,(b1[1]+b2[1])/2,(b1[2]+b2[2])/2]\n",
    "def equation_plane(x1, y1, z1, x2, y2, z2, x3, y3, z3):  \n",
    "    a1 = x2 - x1 \n",
    "    b1 = y2 - y1 \n",
    "    c1 = z2 - z1 \n",
    "    a2 = x3 - x1 \n",
    "    b2 = y3 - y1 \n",
    "    c2 = z3 - z1 \n",
    "    a = b1 * c2 - b2 * c1 \n",
    "    b = a2 * c1 - a1 * c2 \n",
    "    c = a1 * b2 - b1 * a2 \n",
    "    d = (- a * x1 - b * y1 - c * z1) \n",
    "    return f'{a}*x+{b}*y+{c}*z+{d}'\n",
    "equation_plane(x1,y1,z1,x2,y2,z2,x3,y3,z3)\n",
    "#copy and paste the output ino F[2] (next cell)\n",
    "print(M)"
   ]
  },
  {
   "cell_type": "code",
   "execution_count": 2,
   "metadata": {},
   "outputs": [
    {
     "name": "stdout",
     "output_type": "stream",
     "text": [
      "C 0.8951209902744905 -0.4105274035181363 3.3550934981705636\n",
      "C 0.05103848200050942 0.7606897350241364 3.4540224223984373\n"
     ]
    }
   ],
   "source": [
    "from scipy.optimize import fsolve\n",
    "import numpy\n",
    "def xyz_eq(v):\n",
    "    x=v[0]\n",
    "    y=v[1]\n",
    "    z=v[2]\n",
    "    theta=numpy.pi/2\n",
    "    F=numpy.empty((3))\n",
    "    F[0]=(x-M[0])**2+(y-M[1])**2+(z-M[2])**2-r**2\n",
    "    F[1]=numpy.sqrt((x-x1)**2+(y-y1)**2+(z-z1)**2)-2*r*numpy.sin(theta/2)\n",
    "    F[2]=0.5378202809372398*x+0.08791917358018729*y+3.5479234366489143*z-12.348935846720646\n",
    "    return F\n",
    "zguess=numpy.array([x1,y1,z1])\n",
    "z=fsolve(xyz_eq,zguess)\n",
    "print(f'C {z[0]} {z[1]} {z[2]}')\n",
    "x=z[0]-2*(z[0]-M[0])\n",
    "y=z[1]-2*(z[1]-M[1])\n",
    "z=z[2]-2*(z[2]-M[2])\n",
    "print(f'C {x} {y} {z}')\n",
    "\n"
   ]
  },
  {
   "cell_type": "code",
   "execution_count": null,
   "metadata": {},
   "outputs": [],
   "source": []
  }
 ],
 "metadata": {
  "kernelspec": {
   "display_name": "Python 3",
   "language": "python",
   "name": "python3"
  },
  "language_info": {
   "codemirror_mode": {
    "name": "ipython",
    "version": 3
   },
   "file_extension": ".py",
   "mimetype": "text/x-python",
   "name": "python",
   "nbconvert_exporter": "python",
   "pygments_lexer": "ipython3",
   "version": "3.7.3"
  }
 },
 "nbformat": 4,
 "nbformat_minor": 2
}
