{
 "cells": [
  {
   "cell_type": "code",
   "execution_count": 1,
   "metadata": {},
   "outputs": [],
   "source": [
    "import numpy"
   ]
  },
  {
   "cell_type": "code",
   "execution_count": 5,
   "metadata": {},
   "outputs": [
    {
     "name": "stdout",
     "output_type": "stream",
     "text": [
      "[45.00057672 41.65942328]\n"
     ]
    }
   ],
   "source": [
    "# converting angle mentioned in paper to relevant angle in \"rotation.ipynb\"\n",
    "from scipy.optimize import fsolve\n",
    "def theta_eq(z):\n",
    "    theta=z[0]\n",
    "    alpha=z[1]\n",
    "    beta=120\n",
    "    phi=33.34\n",
    "    \n",
    "\n",
    "    \n",
    "    F=numpy.empty((2))\n",
    "    F[0]=(180-beta)+(180-(180-theta)/2)+(phi-(180-theta)/2)+alpha-180\n",
    "    F[1]=theta+(180-(phi-(180-theta)/2+(180-(180-theta)/2)))+phi-180\n",
    "    return F\n",
    "zguess=(45,20)\n",
    "z=fsolve(theta_eq,zguess)\n",
    "print(z)\n",
    "\n",
    "\n"
   ]
  },
  {
   "cell_type": "code",
   "execution_count": 16,
   "metadata": {},
   "outputs": [
    {
     "name": "stdout",
     "output_type": "stream",
     "text": [
      "43.610070101762695\n",
      "7.674869511329358\n",
      "[0.4020204  2.06647992 3.28892961] [-0.02694069 -0.48848313  3.50641297] [0.17609389 0.74816513 3.6249722 ] [-0.29722218 -1.82485158  3.30800851]\n",
      "33.51308101477493\n",
      "33.98034736890965\n"
     ]
    }
   ],
   "source": [
    "# finding angle in optimized transition state\n",
    "\n",
    "import os\n",
    "cnt_file=os.path.join('nt559_opt.xyz')\n",
    "\n",
    "cnt_coords=numpy.genfromtxt(fname=cnt_file,dtype='unicode',skip_header=2)\n",
    "coords=(cnt_coords[:,1:])\n",
    "coords=coords.astype(numpy.float)\n",
    "cnt_file2=os.path.join('nt559_ts.xyz')\n",
    "cnt_coords2=numpy.genfromtxt(fname=cnt_file2,dtype='unicode',skip_header=2)\n",
    "coords2=(cnt_coords2[:,1:])\n",
    "coords2=coords2.astype(numpy.float)\n",
    "a = coords[41]\n",
    "b = coords2[41]\n",
    "c = numpy.array([0.4730797361375, 0.17508116575299998, 3.4045579602845004])\n",
    "\n",
    "ba = a - b\n",
    "bc = c - b\n",
    "\n",
    "cosine_angle = numpy.dot(ba, bc) / (numpy.linalg.norm(ba) * numpy.linalg.norm(bc))\n",
    "angle = numpy.arccos(cosine_angle)\n",
    "\n",
    "print(180*angle/numpy.pi)\n",
    "a = coords[42]\n",
    "b = coords2[42]\n",
    "c = numpy.array([0.4730797361375, 0.17508116575299998, 3.4045579602845004])\n",
    "\n",
    "ba = a - b\n",
    "bc = c - b\n",
    "\n",
    "cosine_angle = numpy.dot(ba, bc) / (numpy.linalg.norm(ba) * numpy.linalg.norm(bc))\n",
    "angle = numpy.arccos(cosine_angle)\n",
    "print(180*angle/numpy.pi)\n",
    "print(coords2[63],coords2[42],coords2[41],coords2[40])\n",
    " #angle of rotating atoms wrt other atoms (compare to 1-4-2 and 1-6-2 in the dwnt paper)\n",
    "a = coords2[41]\n",
    "b = coords2[60]\n",
    "c = coords2[42]\n",
    "\n",
    "ba = a - b\n",
    "bc = c - b\n",
    "\n",
    "cosine_angle = numpy.dot(ba, bc) / (numpy.linalg.norm(ba) * numpy.linalg.norm(bc))\n",
    "angle = numpy.arccos(cosine_angle)\n",
    "print(180*angle/numpy.pi)\n",
    "a = coords2[41]\n",
    "b = coords2[43]\n",
    "c = coords2[42]\n",
    "\n",
    "ba = a - b\n",
    "bc = c - b\n",
    "\n",
    "cosine_angle = numpy.dot(ba, bc) / (numpy.linalg.norm(ba) * numpy.linalg.norm(bc))\n",
    "angle = numpy.arccos(cosine_angle)\n",
    "\n",
    "print(180*angle/numpy.pi)\n"
   ]
  },
  {
   "cell_type": "code",
   "execution_count": 13,
   "metadata": {},
   "outputs": [
    {
     "name": "stdout",
     "output_type": "stream",
     "text": [
      "Dihedral angle in radians: 0.6479618996000154 and degrees: 37.12548213236047\n"
     ]
    }
   ],
   "source": [
    "#calculating dihedral of transition state\n",
    "import numpy as np\n",
    "\n",
    "def calc_dihedral(u1, u2, u3, u4):\n",
    "\n",
    "\n",
    "    a1 = u2 - u1\n",
    "    a2 = u3 - u2\n",
    "    a3 = u4 - u3\n",
    "\n",
    "    v1 = np.cross(a1, a2)\n",
    "    v1 = v1 / (v1 * v1).sum(-1)**0.5\n",
    "    v2 = np.cross(a2, a3)\n",
    "    v2 = v2 / (v2 * v2).sum(-1)**0.5\n",
    "    porm = np.sign((v1 * a3).sum(-1))\n",
    "    rad = np.arccos((v1*v2).sum(-1) / ((v1**2).sum(-1) * (v2**2).sum(-1))**0.5)\n",
    "    if not porm == 0:\n",
    "        rad = rad * porm\n",
    "\n",
    "    return rad\n",
    "    \n",
    "a = np.array([0.4020204,  2.06647992, 3.28892961])\n",
    "b = np.array([-0.02694069, -0.48848313,  3.50641297])\n",
    "c = np.array([0.17609389, 0.74816513, 3.6249722 ])\n",
    "d = np.array([-0.29722218, -1.82485158,  3.30800851])\n",
    "\n",
    "alpha = calc_dihedral(a,b,c,d)\n",
    "print(\"Dihedral angle in radians:\", alpha, \"and degrees:\", alpha*180/np.pi)"
   ]
  },
  {
   "cell_type": "code",
   "execution_count": null,
   "metadata": {},
   "outputs": [],
   "source": []
  }
 ],
 "metadata": {
  "kernelspec": {
   "display_name": "Python 3",
   "language": "python",
   "name": "python3"
  },
  "language_info": {
   "codemirror_mode": {
    "name": "ipython",
    "version": 3
   },
   "file_extension": ".py",
   "mimetype": "text/x-python",
   "name": "python",
   "nbconvert_exporter": "python",
   "pygments_lexer": "ipython3",
   "version": "3.7.3"
  }
 },
 "nbformat": 4,
 "nbformat_minor": 2
}
